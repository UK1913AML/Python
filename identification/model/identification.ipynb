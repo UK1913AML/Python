{
  "nbformat": 4,
  "nbformat_minor": 0,
  "metadata": {
    "colab": {
      "name": "identification.ipynb",
      "provenance": [],
      "collapsed_sections": []
    },
    "kernelspec": {
      "display_name": "Python 3",
      "name": "python3"
    }
  },
  "cells": [
    {
      "cell_type": "code",
      "metadata": {
        "id": "VWcS6NKwiyZ9"
      },
      "source": [
        "from glob import glob\r\n",
        "from keras import optimizers\r\n",
        "from keras.models import load_model\r\n",
        "from keras.utils.np_utils import to_categorical\r\n",
        "from sklearn.model_selection import train_test_split\r\n",
        "from tensorflow import keras\r\n",
        "from tensorflow.keras import layers, models\r\n",
        "import cv2\r\n",
        "import matplotlib.pyplot as plt\r\n",
        "import numpy as np\r\n",
        "import os"
      ],
      "execution_count": null,
      "outputs": []
    },
    {
      "cell_type": "code",
      "metadata": {
        "id": "Mh2s0qoMSi1U",
        "colab": {
          "base_uri": "https://localhost:8080/"
        },
        "outputId": "2ad64649-19aa-4a14-da9a-a4b45fd4c06e"
      },
      "source": [
        "path = glob(\"character/*/\")\n",
        "data = []\n",
        "label = [] \n",
        "total = 0\n",
        "x = 32\n",
        "y = 18\n",
        "\n",
        "def append_data(directory, total):\n",
        "  files = os.listdir(directory)\n",
        "  print(files)\n",
        "  for image in files:\n",
        "    if image.endswith(\".jpg\"):\n",
        "      image = cv2.imread(directory + image)\n",
        "      image = cv2.resize(image, (x, y))\n",
        "      image_gs = cv2.cvtColor(image, cv2.COLOR_BGR2GRAY)\n",
        "      image_gs = image_gs.flatten()\n",
        "      data.append(image_gs)\n",
        "      label.append(total)\n",
        "\n",
        "for i in path:\n",
        "    append_data(i, total)\n",
        "    total += 1"
      ],
      "execution_count": null,
      "outputs": [
        {
          "output_type": "stream",
          "text": [
            "['ohhara_020.jpg', 'ohhara_022.jpg', 'ohhara_024.jpg', 'ohhara_025.jpg', 'ohhara_026.jpg', 'ohhara_028.jpg', 'ohhara_029.jpg', 'ohhara_030.jpg', 'ohhara_031.jpg', 'ohhara_032.jpg', 'ohhara_033.jpg', 'ohhara_035.jpg', 'ohhara_036.jpg', 'ohhara_037.jpg', 'ohhara_038.jpg', 'ohhara_039.jpg', 'ohhara_040.jpg', 'ohhara_041.jpg', 'ohhara_042.jpg', 'ohhara_043.jpg', 'ohhara_044.jpg', 'ohhara_046.jpg', 'ohhara_049.jpg', 'ohhara_050.jpg', 'ohhara_051.jpg', 'ohhara_052.jpg', 'ohhara_059.jpg', 'ohhara_017.jpg', 'ohhara_015.jpg', 'ohhara_014.jpg', 'ohhara_019.jpg', 'ohhara_016.jpg', 'ohhara_018.jpg', 'ohhara_047.jpg', 'ohhara_027.jpg', 'ohhara_021.jpg', 'ohhara_048.jpg', 'ohhara_057.jpg', 'ohhara_053.jpg', 'ohhara_055.jpg', 'ohhara_058.jpg', 'ohhara_054.jpg', 'ohhara_001.jpg', 'ohhara_002.jpg', 'ohhara_003.jpg', 'ohhara_005.jpg', 'ohhara_008.jpg', 'ohhara_012.jpg', 'ohhara_023.jpg', 'ohhara_034.jpg', 'ohhara_064.jpg', 'ohhara_066.jpg', 'ohhara_067.jpg', 'ohhara_068.jpg', 'ohhara_069.jpg', 'ohhara_070.jpg', 'ohhara_071.jpg', 'ohhara_072.jpg', 'ohhara_073.jpg', 'ohhara_075.jpg', 'ohhara_076.jpg', 'ohhara_078.jpg', 'ohhara_079.jpg', 'ohhara_080.jpg', 'ohhara_081.jpg', 'ohhara_083.jpg', 'ohhara_084.jpg', 'ohhara_087.jpg', 'ohhara_088.jpg', 'ohhara_089.jpg', 'ohhara_090.jpg', 'ohhara_092.jpg', 'ohhara_093.jpg', 'ohhara_094.jpg', 'ohhara_095.jpg', 'ohhara_096.jpg', 'ohhara_097.jpg', 'ohhara_098.jpg', 'ohhara_099.jpg', 'ohhara_103.jpg', 'ohhara_104.jpg', 'ohhara_105.jpg', 'ohhara_007.jpg', 'ohhara_004.jpg', 'ohhara_006.jpg', 'ohhara_009.jpg', 'ohhara_074.jpg', 'ohhara_085.jpg', 'ohhara_065.jpg', 'ohhara_102.jpg', 'ohhara_056.jpg', 'ohhara_100.jpg', 'ohhara_060.jpg', 'ohhara_091.jpg', 'ohhara_101.jpg', 'ohhara_061.jpg', 'ohhara_086.jpg', 'ohhara_077.jpg', 'ohhara_082.jpg', 'ohhara_063.jpg', 'ohhara_045.jpg', 'ohhara_062.jpg', 'ohhara_106.jpg', 'ohhara_107.jpg', 'ohhara_108.jpg', 'ohhara_115.jpg', 'ohhara_117.jpg', 'ohhara_118.jpg', 'ohhara_119.jpg', 'ohhara_113.jpg', 'ohhara_116.jpg', 'ohhara_112.jpg', 'ohhara_114.jpg', 'ohhara_111.jpg', 'ohhara_110.jpg', 'ohhara_109.jpg', 'ohhara_121.jpg', 'ohhara_122.jpg', 'ohhara_128.jpg', 'ohhara_129.jpg', 'ohhara_130.jpg', 'ohhara_131.jpg', 'ohhara_132.jpg', 'ohhara_133.jpg', 'ohhara_134.jpg', 'ohhara_136.jpg', 'ohhara_137.jpg', 'ohhara_140.jpg', 'ohhara_141.jpg', 'ohhara_142.jpg', 'ohhara_143.jpg', 'ohhara_144.jpg', 'ohhara_010.jpg', 'ohhara_127.jpg', 'ohhara_139.jpg', 'ohhara_138.jpg', 'ohhara_120.jpg', 'ohhara_135.jpg', 'ohhara_125.jpg', 'ohhara_124.jpg', 'ohhara_123.jpg', 'ohhara_126.jpg', 'ohhara_011.jpg', 'ohhara_013.jpg']\n",
            "['yamaoka_157.jpg', 'yamaoka_159.jpg', 'yamaoka_160.jpg', 'yamaoka_161.jpg', 'yamaoka_163.jpg', 'yamaoka_164.jpg', 'yamaoka_165.jpg', 'yamaoka_166.jpg', 'yamaoka_167.jpg', 'yamaoka_168.jpg', 'yamaoka_169.jpg', 'yamaoka_170.jpg', 'yamaoka_171.jpg', 'yamaoka_172.jpg', 'yamaoka_173.jpg', 'yamaoka_174.jpg', 'yamaoka_175.jpg', 'yamaoka_176.jpg', 'yamaoka_177.jpg', 'yamaoka_178.jpg', 'yamaoka_179.jpg', 'yamaoka_181.jpg', 'yamaoka_149.jpg', 'yamaoka_155.jpg', 'yamaoka_156.jpg', 'yamaoka_154.jpg', 'yamaoka_151.jpg', 'yamaoka_152.jpg', 'yamaoka_153.jpg', 'yamaoka_150.jpg', 'yamaoka_162.jpg', 'yamaoka_182.jpg', 'yamaoka_158.jpg', 'yamaoka_001.jpg', 'yamaoka_002.jpg', 'yamaoka_003.jpg', 'yamaoka_004.jpg', 'yamaoka_005.jpg', 'yamaoka_006.jpg', 'yamaoka_009.jpg', 'yamaoka_028.jpg', 'yamaoka_036.jpg', 'yamaoka_048.jpg', 'yamaoka_065.jpg', 'yamaoka_079.jpg', 'yamaoka_109.jpg', 'yamaoka_114.jpg', 'yamaoka_116.jpg', 'yamaoka_145.jpg', 'yamaoka_183.jpg', 'yamaoka_187.jpg', 'yamaoka_188.jpg', 'yamaoka_189.jpg', 'yamaoka_192.jpg', 'yamaoka_193.jpg', 'yamaoka_194.jpg', 'yamaoka_195.jpg', 'yamaoka_197.jpg', 'yamaoka_007.jpg', 'yamaoka_008.jpg', 'yamaoka_010.jpg', 'yamaoka_012.jpg', 'yamaoka_013.jpg', 'yamaoka_014.jpg', 'yamaoka_018.jpg', 'yamaoka_022.jpg', 'yamaoka_025.jpg', 'yamaoka_027.jpg', 'yamaoka_032.jpg', 'yamaoka_033.jpg', 'yamaoka_034.jpg', 'yamaoka_035.jpg', 'yamaoka_180.jpg', 'yamaoka_138.jpg', 'yamaoka_083.jpg', 'yamaoka_128.jpg', 'yamaoka_191.jpg', 'yamaoka_030.jpg', 'yamaoka_198.jpg', 'yamaoka_017.jpg', 'yamaoka_199.jpg', 'yamaoka_020.jpg', 'yamaoka_026.jpg', 'yamaoka_015.jpg', 'yamaoka_200.jpg', 'yamaoka_186.jpg', 'yamaoka_184.jpg', 'yamaoka_016.jpg', 'yamaoka_021.jpg', 'yamaoka_019.jpg', 'yamaoka_031.jpg', 'yamaoka_196.jpg', 'yamaoka_024.jpg', 'yamaoka_185.jpg', 'yamaoka_029.jpg', 'yamaoka_023.jpg', 'yamaoka_190.jpg', 'yamaoka_011.jpg', 'yamaoka_037.jpg', 'yamaoka_038.jpg', 'yamaoka_039.jpg', 'yamaoka_040.jpg', 'yamaoka_041.jpg', 'yamaoka_042.jpg', 'yamaoka_044.jpg', 'yamaoka_045.jpg', 'yamaoka_046.jpg', 'yamaoka_043.jpg', 'yamaoka_050.jpg', 'yamaoka_052.jpg', 'yamaoka_053.jpg', 'yamaoka_055.jpg', 'yamaoka_056.jpg', 'yamaoka_058.jpg', 'yamaoka_059.jpg', 'yamaoka_060.jpg', 'yamaoka_061.jpg', 'yamaoka_062.jpg', 'yamaoka_063.jpg', 'yamaoka_064.jpg', 'yamaoka_066.jpg', 'yamaoka_067.jpg', 'yamaoka_068.jpg', 'yamaoka_069.jpg', 'yamaoka_070.jpg', 'yamaoka_071.jpg', 'yamaoka_072.jpg', 'yamaoka_073.jpg', 'yamaoka_074.jpg', 'yamaoka_075.jpg', 'yamaoka_076.jpg', 'yamaoka_077.jpg', 'yamaoka_078.jpg', 'yamaoka_080.jpg', 'yamaoka_082.jpg', 'yamaoka_085.jpg', 'yamaoka_087.jpg', 'yamaoka_088.jpg', 'yamaoka_090.jpg', 'yamaoka_091.jpg', 'yamaoka_092.jpg', 'yamaoka_093.jpg', 'yamaoka_094.jpg', 'yamaoka_095.jpg', 'yamaoka_096.jpg', 'yamaoka_097.jpg', 'yamaoka_098.jpg', 'yamaoka_099.jpg', 'yamaoka_100.jpg', 'yamaoka_101.jpg', 'yamaoka_102.jpg', 'yamaoka_103.jpg', 'yamaoka_104.jpg', 'yamaoka_105.jpg', 'yamaoka_057.jpg', 'yamaoka_051.jpg', 'yamaoka_047.jpg', 'yamaoka_049.jpg', 'yamaoka_054.jpg', 'yamaoka_086.jpg', 'yamaoka_084.jpg', 'yamaoka_089.jpg', 'yamaoka_081.jpg', 'yamaoka_106.jpg', 'yamaoka_107.jpg', 'yamaoka_108.jpg', 'yamaoka_110.jpg', 'yamaoka_111.jpg', 'yamaoka_113.jpg', 'yamaoka_112.jpg', 'yamaoka_115.jpg', 'yamaoka_117.jpg', 'yamaoka_118.jpg', 'yamaoka_119.jpg', 'yamaoka_120.jpg', 'yamaoka_121.jpg', 'yamaoka_122.jpg', 'yamaoka_123.jpg', 'yamaoka_124.jpg', 'yamaoka_126.jpg', 'yamaoka_127.jpg', 'yamaoka_129.jpg', 'yamaoka_130.jpg', 'yamaoka_131.jpg', 'yamaoka_125.jpg', 'yamaoka_132.jpg', 'yamaoka_133.jpg', 'yamaoka_134.jpg', 'yamaoka_135.jpg', 'yamaoka_136.jpg', 'yamaoka_137.jpg', 'yamaoka_139.jpg', 'yamaoka_140.jpg', 'yamaoka_141.jpg', 'yamaoka_142.jpg', 'yamaoka_143.jpg', 'yamaoka_144.jpg', 'yamaoka_146.jpg', 'yamaoka_147.jpg', 'yamaoka_148.jpg']\n",
            "['kyogoku_053.jpg', 'kyogoku_054.jpg', 'kyogoku_055.jpg', 'kyogoku_056.jpg', 'kyogoku_057.jpg', 'kyogoku_058.jpg', 'kyogoku_059.jpg', 'kyogoku_060.jpg', 'kyogoku_062.jpg', 'kyogoku_063.jpg', 'kyogoku_064.jpg', 'kyogoku_065.jpg', 'kyogoku_066.jpg', 'kyogoku_067.jpg', 'kyogoku_068.jpg', 'kyogoku_069.jpg', 'kyogoku_070.jpg', 'kyogoku_071.jpg', 'kyogoku_072.jpg', 'kyogoku_073.jpg', 'kyogoku_074.jpg', 'kyogoku_075.jpg', 'kyogoku_076.jpg', 'kyogoku_077.jpg', 'kyogoku_078.jpg', 'kyogoku_079.jpg', 'kyogoku_080.jpg', 'kyogoku_081.jpg', 'kyogoku_082.jpg', 'kyogoku_083.jpg', 'kyogoku_084.jpg', 'kyogoku_052.jpg', 'kyogoku_049.jpg', 'kyogoku_048.jpg', 'kyogoku_046.jpg', 'kyogoku_050.jpg', 'kyogoku_051.jpg', 'kyogoku_047.jpg', 'kyogoku_061.jpg', 'kyogoku_005.jpg', 'kyogoku_010.jpg', 'kyogoku_011.jpg', 'kyogoku_015.jpg', 'kyogoku_020.jpg', 'kyogoku_021.jpg', 'kyogoku_022.jpg', 'kyogoku_009.jpg', 'kyogoku_019.jpg', 'kyogoku_014.jpg', 'kyogoku_003.jpg', 'kyogoku_024.jpg', 'kyogoku_017.jpg', 'kyogoku_001.jpg', 'kyogoku_018.jpg', 'kyogoku_023.jpg', 'kyogoku_008.jpg', 'kyogoku_007.jpg', 'kyogoku_016.jpg', 'kyogoku_012.jpg', 'kyogoku_002.jpg', 'kyogoku_013.jpg', 'kyogoku_006.jpg', 'kyogoku_004.jpg', 'kyogoku_028.jpg', 'kyogoku_029.jpg', 'kyogoku_032.jpg', 'kyogoku_035.jpg', 'kyogoku_036.jpg', 'kyogoku_041.jpg', 'kyogoku_026.jpg', 'kyogoku_033.jpg', 'kyogoku_039.jpg', 'kyogoku_030.jpg', 'kyogoku_038.jpg', 'kyogoku_034.jpg', 'kyogoku_040.jpg', 'kyogoku_027.jpg', 'kyogoku_025.jpg', 'kyogoku_043.jpg', 'kyogoku_031.jpg', 'kyogoku_045.jpg', 'kyogoku_042.jpg', 'kyogoku_044.jpg', 'kyogoku_037.jpg']\n",
            "['kurita_141.jpg', 'kurita_142.jpg', 'kurita_143.jpg', 'kurita_144.jpg', 'kurita_145.jpg', 'kurita_146.jpg', 'kurita_148.jpg', 'kurita_149.jpg', 'kurita_150.jpg', 'kurita_153.jpg', 'kurita_156.jpg', 'kurita_157.jpg', 'kurita_158.jpg', 'kurita_160.jpg', 'kurita_161.jpg', 'kurita_163.jpg', 'kurita_165.jpg', 'kurita_166.jpg', 'kurita_167.jpg', 'kurita_168.jpg', 'kurita_169.jpg', 'kurita_170.jpg', 'kurita_171.jpg', 'kurita_172.jpg', 'kurita_174.jpg', 'kurita_175.jpg', 'kurita_127.jpg', 'kurita_131.jpg', 'kurita_128.jpg', 'kurita_130.jpg', 'kurita_132.jpg', 'kurita_140.jpg', 'kurita_135.jpg', 'kurita_139.jpg', 'kurita_136.jpg', 'kurita_138.jpg', 'kurita_133.jpg', 'kurita_162.jpg', 'kurita_155.jpg', 'kurita_151.jpg', 'kurita_152.jpg', 'kurita_042.jpg', 'kurita_097.jpg', 'kurita_177.jpg', 'kurita_180.jpg', 'kurita_191.jpg', 'kurita_195.jpg', 'kurita_006.jpg', 'kurita_024.jpg', 'kurita_060.jpg', 'kurita_096.jpg', 'kurita_122.jpg', 'kurita_129.jpg', 'kurita_137.jpg', 'kurita_147.jpg', 'kurita_154.jpg', 'kurita_176.jpg', 'kurita_178.jpg', 'kurita_179.jpg', 'kurita_194.jpg', 'kurita_164.jpg', 'kurita_114.jpg', 'kurita_084.jpg', 'kurita_173.jpg', 'kurita_102.jpg', 'kurita_107.jpg', 'kurita_181.jpg', 'kurita_048.jpg', 'kurita_183.jpg', 'kurita_076.jpg', 'kurita_067.jpg', 'kurita_039.jpg', 'kurita_159.jpg', 'kurita_182.jpg', 'kurita_056.jpg', 'kurita_184.jpg', 'kurita_030.jpg', 'kurita_090.jpg', 'kurita_134.jpg', 'kurita_187.jpg', 'kurita_186.jpg', 'kurita_192.jpg', 'kurita_190.jpg', 'kurita_188.jpg', 'kurita_185.jpg', 'kurita_189.jpg', 'kurita_193.jpg', 'kurita_196.jpg', 'kurita_197.jpg', 'kurita_198.jpg', 'kurita_199.jpg', 'kurita_200.jpg', 'kurita_001.jpg', 'kurita_002.jpg', 'kurita_003.jpg', 'kurita_004.jpg', 'kurita_005.jpg', 'kurita_008.jpg', 'kurita_009.jpg', 'kurita_012.jpg', 'kurita_013.jpg', 'kurita_015.jpg', 'kurita_016.jpg', 'kurita_010.jpg', 'kurita_011.jpg', 'kurita_014.jpg', 'kurita_007.jpg', 'kurita_018.jpg', 'kurita_020.jpg', 'kurita_022.jpg', 'kurita_023.jpg', 'kurita_025.jpg', 'kurita_026.jpg', 'kurita_027.jpg', 'kurita_028.jpg', 'kurita_029.jpg', 'kurita_031.jpg', 'kurita_032.jpg', 'kurita_033.jpg', 'kurita_034.jpg', 'kurita_035.jpg', 'kurita_036.jpg', 'kurita_037.jpg', 'kurita_040.jpg', 'kurita_041.jpg', 'kurita_043.jpg', 'kurita_044.jpg', 'kurita_045.jpg', 'kurita_046.jpg', 'kurita_047.jpg', 'kurita_049.jpg', 'kurita_050.jpg', 'kurita_051.jpg', 'kurita_052.jpg', 'kurita_053.jpg', 'kurita_054.jpg', 'kurita_055.jpg', 'kurita_019.jpg', 'kurita_017.jpg', 'kurita_038.jpg', 'kurita_021.jpg', 'kurita_058.jpg', 'kurita_059.jpg', 'kurita_061.jpg', 'kurita_062.jpg', 'kurita_063.jpg', 'kurita_064.jpg', 'kurita_065.jpg', 'kurita_068.jpg', 'kurita_070.jpg', 'kurita_072.jpg', 'kurita_069.jpg', 'kurita_071.jpg', 'kurita_066.jpg', 'kurita_057.jpg', 'kurita_073.jpg', 'kurita_074.jpg', 'kurita_075.jpg', 'kurita_077.jpg', 'kurita_078.jpg', 'kurita_079.jpg', 'kurita_080.jpg', 'kurita_081.jpg', 'kurita_082.jpg', 'kurita_083.jpg', 'kurita_092.jpg', 'kurita_093.jpg', 'kurita_094.jpg', 'kurita_095.jpg', 'kurita_098.jpg', 'kurita_099.jpg', 'kurita_100.jpg', 'kurita_101.jpg', 'kurita_103.jpg', 'kurita_104.jpg', 'kurita_105.jpg', 'kurita_091.jpg', 'kurita_085.jpg', 'kurita_088.jpg', 'kurita_106.jpg', 'kurita_108.jpg', 'kurita_086.jpg', 'kurita_087.jpg', 'kurita_089.jpg', 'kurita_109.jpg', 'kurita_110.jpg', 'kurita_111.jpg', 'kurita_112.jpg', 'kurita_113.jpg', 'kurita_115.jpg', 'kurita_116.jpg', 'kurita_117.jpg', 'kurita_119.jpg', 'kurita_120.jpg', 'kurita_121.jpg', 'kurita_123.jpg', 'kurita_124.jpg', 'kurita_125.jpg', 'kurita_126.jpg', 'kurita_118.jpg']\n",
            "['tomii_160.jpg', 'tomii_161.jpg', 'tomii_163.jpg', 'tomii_164.jpg', 'tomii_165.jpg', 'tomii_166.jpg', 'tomii_167.jpg', 'tomii_169.jpg', 'tomii_170.jpg', 'tomii_171.jpg', 'tomii_172.jpg', 'tomii_173.jpg', 'tomii_174.jpg', 'tomii_175.jpg', 'tomii_176.jpg', 'tomii_177.jpg', 'tomii_178.jpg', 'tomii_179.jpg', 'tomii_180.jpg', 'tomii_181.jpg', 'tomii_182.jpg', 'tomii_183.jpg', 'tomii_184.jpg', 'tomii_185.jpg', 'tomii_186.jpg', 'tomii_187.jpg', 'tomii_188.jpg', 'tomii_189.jpg', 'tomii_192.jpg', 'tomii_193.jpg', 'tomii_194.jpg', 'tomii_195.jpg', 'tomii_196.jpg', 'tomii_197.jpg', 'tomii_198.jpg', 'tomii_199.jpg', 'tomii_155.jpg', 'tomii_149.jpg', 'tomii_152.jpg', 'tomii_150.jpg', 'tomii_154.jpg', 'tomii_148.jpg', 'tomii_153.jpg', 'tomii_156.jpg', 'tomii_157.jpg', 'tomii_159.jpg', 'tomii_158.jpg', 'tomii_151.jpg', 'tomii_190.jpg', 'tomii_200.jpg', 'tomii_162.jpg', 'tomii_191.jpg', 'tomii_168.jpg', 'tomii_001.jpg', 'tomii_002.jpg', 'tomii_003.jpg', 'tomii_004.jpg', 'tomii_005.jpg', 'tomii_006.jpg', 'tomii_007.jpg', 'tomii_013.jpg', 'tomii_014.jpg', 'tomii_015.jpg', 'tomii_016.jpg', 'tomii_017.jpg', 'tomii_018.jpg', 'tomii_019.jpg', 'tomii_022.jpg', 'tomii_023.jpg', 'tomii_026.jpg', 'tomii_027.jpg', 'tomii_024.jpg', 'tomii_010.jpg', 'tomii_020.jpg', 'tomii_011.jpg', 'tomii_025.jpg', 'tomii_009.jpg', 'tomii_012.jpg', 'tomii_008.jpg', 'tomii_021.jpg', 'tomii_028.jpg', 'tomii_029.jpg', 'tomii_030.jpg', 'tomii_031.jpg', 'tomii_032.jpg', 'tomii_033.jpg', 'tomii_034.jpg', 'tomii_035.jpg', 'tomii_036.jpg', 'tomii_037.jpg', 'tomii_038.jpg', 'tomii_039.jpg', 'tomii_040.jpg', 'tomii_041.jpg', 'tomii_042.jpg', 'tomii_043.jpg', 'tomii_044.jpg', 'tomii_045.jpg', 'tomii_046.jpg', 'tomii_047.jpg', 'tomii_048.jpg', 'tomii_049.jpg', 'tomii_050.jpg', 'tomii_051.jpg', 'tomii_052.jpg', 'tomii_053.jpg', 'tomii_054.jpg', 'tomii_055.jpg', 'tomii_056.jpg', 'tomii_057.jpg', 'tomii_058.jpg', 'tomii_059.jpg', 'tomii_060.jpg', 'tomii_061.jpg', 'tomii_062.jpg', 'tomii_063.jpg', 'tomii_065.jpg', 'tomii_066.jpg', 'tomii_068.jpg', 'tomii_069.jpg', 'tomii_070.jpg', 'tomii_071.jpg', 'tomii_072.jpg', 'tomii_073.jpg', 'tomii_074.jpg', 'tomii_075.jpg', 'tomii_076.jpg', 'tomii_077.jpg', 'tomii_078.jpg', 'tomii_079.jpg', 'tomii_080.jpg', 'tomii_081.jpg', 'tomii_082.jpg', 'tomii_083.jpg', 'tomii_084.jpg', 'tomii_085.jpg', 'tomii_086.jpg', 'tomii_087.jpg', 'tomii_064.jpg', 'tomii_067.jpg', 'tomii_088.jpg', 'tomii_089.jpg', 'tomii_090.jpg', 'tomii_093.jpg', 'tomii_095.jpg', 'tomii_091.jpg', 'tomii_092.jpg', 'tomii_094.jpg', 'tomii_096.jpg', 'tomii_097.jpg', 'tomii_098.jpg', 'tomii_099.jpg', 'tomii_100.jpg', 'tomii_101.jpg', 'tomii_102.jpg', 'tomii_103.jpg', 'tomii_104.jpg', 'tomii_109.jpg', 'tomii_115.jpg', 'tomii_119.jpg', 'tomii_120.jpg', 'tomii_121.jpg', 'tomii_123.jpg', 'tomii_124.jpg', 'tomii_125.jpg', 'tomii_126.jpg', 'tomii_118.jpg', 'tomii_106.jpg', 'tomii_105.jpg', 'tomii_112.jpg', 'tomii_111.jpg', 'tomii_108.jpg', 'tomii_110.jpg', 'tomii_107.jpg', 'tomii_117.jpg', 'tomii_122.jpg', 'tomii_114.jpg', 'tomii_116.jpg', 'tomii_113.jpg', 'tomii_127.jpg', 'tomii_128.jpg', 'tomii_129.jpg', 'tomii_130.jpg', 'tomii_133.jpg', 'tomii_134.jpg', 'tomii_135.jpg', 'tomii_136.jpg', 'tomii_137.jpg', 'tomii_138.jpg', 'tomii_139.jpg', 'tomii_140.jpg', 'tomii_141.jpg', 'tomii_142.jpg', 'tomii_143.jpg', 'tomii_144.jpg', 'tomii_145.jpg', 'tomii_146.jpg', 'tomii_147.jpg', 'tomii_131.jpg', 'tomii_132.jpg']\n",
            "['kaibara_101.jpg', 'kaibara_102.jpg', 'kaibara_104.jpg', 'kaibara_106.jpg', 'kaibara_107.jpg', 'kaibara_108.jpg', 'kaibara_109.jpg', 'kaibara_110.jpg', 'kaibara_111.jpg', 'kaibara_112.jpg', 'kaibara_113.jpg', 'kaibara_114.jpg', 'kaibara_115.jpg', 'kaibara_117.jpg', 'kaibara_118.jpg', 'kaibara_120.jpg', 'kaibara_121.jpg', 'kaibara_122.jpg', 'kaibara_123.jpg', 'kaibara_124.jpg', 'kaibara_125.jpg', 'kaibara_126.jpg', 'kaibara_127.jpg', 'kaibara_128.jpg', 'kaibara_129.jpg', 'kaibara_130.jpg', 'kaibara_131.jpg', 'kaibara_132.jpg', 'kaibara_133.jpg', 'kaibara_134.jpg', 'kaibara_135.jpg', 'kaibara_136.jpg', 'kaibara_137.jpg', 'kaibara_138.jpg', 'kaibara_139.jpg', 'kaibara_140.jpg', 'kaibara_141.jpg', 'kaibara_142.jpg', 'kaibara_143.jpg', 'kaibara_144.jpg', 'kaibara_145.jpg', 'kaibara_146.jpg', 'kaibara_147.jpg', 'kaibara_148.jpg', 'kaibara_149.jpg', 'kaibara_150.jpg', 'kaibara_151.jpg', 'kaibara_152.jpg', 'kaibara_153.jpg', 'kaibara_154.jpg', 'kaibara_155.jpg', 'kaibara_156.jpg', 'kaibara_157.jpg', 'kaibara_158.jpg', 'kaibara_159.jpg', 'kaibara_160.jpg', 'kaibara_161.jpg', 'kaibara_162.jpg', 'kaibara_163.jpg', 'kaibara_164.jpg', 'kaibara_165.jpg', 'kaibara_166.jpg', 'kaibara_167.jpg', 'kaibara_168.jpg', 'kaibara_169.jpg', 'kaibara_170.jpg', 'kaibara_171.jpg', 'kaibara_172.jpg', 'kaibara_173.jpg', 'kaibara_174.jpg', 'kaibara_175.jpg', 'kaibara_176.jpg', 'kaibara_177.jpg', 'kaibara_178.jpg', 'kaibara_179.jpg', 'kaibara_180.jpg', 'kaibara_181.jpg', 'kaibara_186.jpg', 'kaibara_187.jpg', 'kaibara_188.jpg', 'kaibara_189.jpg', 'kaibara_190.jpg', 'kaibara_191.jpg', 'kaibara_192.jpg', 'kaibara_195.jpg', 'kaibara_197.jpg', 'kaibara_198.jpg', 'kaibara_199.jpg', 'kaibara_200.jpg', 'kaibara_099.jpg', 'kaibara_100.jpg', 'kaibara_182.jpg', 'kaibara_103.jpg', 'kaibara_196.jpg', 'kaibara_183.jpg', 'kaibara_116.jpg', 'kaibara_193.jpg', 'kaibara_105.jpg', 'kaibara_185.jpg', 'kaibara_119.jpg', 'kaibara_194.jpg', 'kaibara_184.jpg', 'kaibara_001.jpg', 'kaibara_002.jpg', 'kaibara_003.jpg', 'kaibara_004.jpg', 'kaibara_005.jpg', 'kaibara_007.jpg', 'kaibara_008.jpg', 'kaibara_009.jpg', 'kaibara_010.jpg', 'kaibara_011.jpg', 'kaibara_012.jpg', 'kaibara_013.jpg', 'kaibara_014.jpg', 'kaibara_015.jpg', 'kaibara_016.jpg', 'kaibara_006.jpg', 'kaibara_017.jpg', 'kaibara_018.jpg', 'kaibara_019.jpg', 'kaibara_020.jpg', 'kaibara_021.jpg', 'kaibara_022.jpg', 'kaibara_023.jpg', 'kaibara_024.jpg', 'kaibara_025.jpg', 'kaibara_026.jpg', 'kaibara_027.jpg', 'kaibara_029.jpg', 'kaibara_030.jpg', 'kaibara_031.jpg', 'kaibara_032.jpg', 'kaibara_033.jpg', 'kaibara_034.jpg', 'kaibara_035.jpg', 'kaibara_036.jpg', 'kaibara_037.jpg', 'kaibara_038.jpg', 'kaibara_040.jpg', 'kaibara_041.jpg', 'kaibara_042.jpg', 'kaibara_043.jpg', 'kaibara_044.jpg', 'kaibara_045.jpg', 'kaibara_046.jpg', 'kaibara_047.jpg', 'kaibara_048.jpg', 'kaibara_049.jpg', 'kaibara_050.jpg', 'kaibara_051.jpg', 'kaibara_052.jpg', 'kaibara_053.jpg', 'kaibara_054.jpg', 'kaibara_055.jpg', 'kaibara_056.jpg', 'kaibara_057.jpg', 'kaibara_058.jpg', 'kaibara_059.jpg', 'kaibara_060.jpg', 'kaibara_061.jpg', 'kaibara_062.jpg', 'kaibara_063.jpg', 'kaibara_064.jpg', 'kaibara_065.jpg', 'kaibara_066.jpg', 'kaibara_067.jpg', 'kaibara_068.jpg', 'kaibara_069.jpg', 'kaibara_028.jpg', 'kaibara_039.jpg', 'kaibara_070.jpg', 'kaibara_071.jpg', 'kaibara_072.jpg', 'kaibara_073.jpg', 'kaibara_074.jpg', 'kaibara_075.jpg', 'kaibara_076.jpg', 'kaibara_077.jpg', 'kaibara_078.jpg', 'kaibara_079.jpg', 'kaibara_080.jpg', 'kaibara_081.jpg', 'kaibara_082.jpg', 'kaibara_083.jpg', 'kaibara_084.jpg', 'kaibara_085.jpg', 'kaibara_086.jpg', 'kaibara_087.jpg', 'kaibara_088.jpg', 'kaibara_089.jpg', 'kaibara_090.jpg', 'kaibara_092.jpg', 'kaibara_093.jpg', 'kaibara_094.jpg', 'kaibara_095.jpg', 'kaibara_096.jpg', 'kaibara_097.jpg', 'kaibara_098.jpg', 'kaibara_091.jpg']\n",
            "['tanimura_082.jpg', 'tanimura_083.jpg', 'tanimura_086.jpg', 'tanimura_088.jpg', 'tanimura_089.jpg', 'tanimura_090.jpg', 'tanimura_091.jpg', 'tanimura_093.jpg', 'tanimura_094.jpg', 'tanimura_095.jpg', 'tanimura_096.jpg', 'tanimura_097.jpg', 'tanimura_098.jpg', 'tanimura_099.jpg', 'tanimura_101.jpg', 'tanimura_102.jpg', 'tanimura_003.jpg', 'tanimura_004.jpg', 'tanimura_005.jpg', 'tanimura_063.jpg', 'tanimura_076.jpg', 'tanimura_064.jpg', 'tanimura_055.jpg', 'tanimura_074.jpg', 'tanimura_062.jpg', 'tanimura_066.jpg', 'tanimura_080.jpg', 'tanimura_073.jpg', 'tanimura_058.jpg', 'tanimura_078.jpg', 'tanimura_068.jpg', 'tanimura_057.jpg', 'tanimura_069.jpg', 'tanimura_077.jpg', 'tanimura_072.jpg', 'tanimura_054.jpg', 'tanimura_060.jpg', 'tanimura_061.jpg', 'tanimura_071.jpg', 'tanimura_075.jpg', 'tanimura_079.jpg', 'tanimura_056.jpg', 'tanimura_065.jpg', 'tanimura_067.jpg', 'tanimura_087.jpg', 'tanimura_100.jpg', 'tanimura_084.jpg', 'tanimura_085.jpg', 'tanimura_015.jpg', 'tanimura_092.jpg', 'tanimura_002.jpg', 'tanimura_006.jpg', 'tanimura_081.jpg', 'tanimura_037.jpg', 'tanimura_059.jpg', 'tanimura_011.jpg', 'tanimura_026.jpg', 'tanimura_001.jpg', 'tanimura_070.jpg', 'tanimura_048.jpg', 'tanimura_010.jpg', 'tanimura_007.jpg', 'tanimura_009.jpg', 'tanimura_008.jpg', 'tanimura_013.jpg', 'tanimura_012.jpg', 'tanimura_014.jpg', 'tanimura_016.jpg', 'tanimura_018.jpg', 'tanimura_019.jpg', 'tanimura_023.jpg', 'tanimura_024.jpg', 'tanimura_020.jpg', 'tanimura_022.jpg', 'tanimura_017.jpg', 'tanimura_021.jpg', 'tanimura_025.jpg', 'tanimura_027.jpg', 'tanimura_028.jpg', 'tanimura_029.jpg', 'tanimura_030.jpg', 'tanimura_031.jpg', 'tanimura_032.jpg', 'tanimura_034.jpg', 'tanimura_035.jpg', 'tanimura_036.jpg', 'tanimura_045.jpg', 'tanimura_043.jpg', 'tanimura_044.jpg', 'tanimura_040.jpg', 'tanimura_041.jpg', 'tanimura_033.jpg', 'tanimura_039.jpg', 'tanimura_038.jpg', 'tanimura_042.jpg', 'tanimura_046.jpg', 'tanimura_047.jpg', 'tanimura_049.jpg', 'tanimura_050.jpg', 'tanimura_053.jpg', 'tanimura_051.jpg', 'tanimura_052.jpg']\n"
          ],
          "name": "stdout"
        }
      ]
    },
    {
      "cell_type": "code",
      "metadata": {
        "id": "2bx33_7QUNE7",
        "colab": {
          "base_uri": "https://localhost:8080/"
        },
        "outputId": "0b6f6dd5-e3cd-4bc7-a0ad-bceaabd9b15f"
      },
      "source": [
        "data = np.array(data, dtype=np.float64)\r\n",
        "label = np.array(label, dtype=np.float64)\r\n",
        "\r\n",
        "train_data, test_data, train_label, test_label = train_test_split(data, label, random_state=1, stratify=label, test_size=0.2)\r\n",
        "\r\n",
        "train_data = train_data.reshape((len(train_data)), x, y, 1)\r\n",
        "test_data = test_data.reshape((len(test_data)), x, y, 1)\r\n",
        "\r\n",
        "train_data /= 255\r\n",
        "test_data /= 255\r\n",
        "\r\n",
        "train_label = to_categorical(train_label, num_classes=7)\r\n",
        "test_label = to_categorical(test_label, num_classes=7)\r\n",
        "print(train_data.shape)\r\n",
        "print(train_label.shape)\r\n",
        "print(test_data.shape)\r\n",
        "print(test_label.shape)"
      ],
      "execution_count": null,
      "outputs": [
        {
          "output_type": "stream",
          "text": [
            "(904, 32, 18, 1)\n",
            "(904, 7)\n",
            "(226, 32, 18, 1)\n",
            "(226, 7)\n"
          ],
          "name": "stdout"
        }
      ]
    },
    {
      "cell_type": "code",
      "metadata": {
        "id": "Yr6Qjv4dZmr9"
      },
      "source": [
        "model = models.Sequential()\r\n",
        "model.add(layers.Conv2D(32, (3, 3), activation=\"sigmoid\", padding=\"same\", input_shape=(x, y, 1)))\r\n",
        "model.add(layers.BatchNormalization())\r\n",
        "model.add(layers.MaxPooling2D((2, 2), strides=(1, 1)))\r\n",
        "model.add(layers.Conv2D(32, (3, 3), activation=\"sigmoid\", padding=\"same\"))\r\n",
        "model.add(layers.BatchNormalization())\r\n",
        "model.add(layers.MaxPooling2D((2, 2), strides=(1, 1)))\r\n",
        "model.add(layers.Flatten())\r\n",
        "model.add(layers.Dense(128, activation=\"sigmoid\"))\r\n",
        "model.add(layers.Dense(7, activation=\"softmax\"))"
      ],
      "execution_count": null,
      "outputs": []
    },
    {
      "cell_type": "code",
      "metadata": {
        "id": "jDeBxbqKbRsl"
      },
      "source": [
        "model.compile(optimizer=keras.optimizers.Adam(), loss=\"categorical_crossentropy\", metrics=[\"accuracy\"])"
      ],
      "execution_count": null,
      "outputs": []
    },
    {
      "cell_type": "code",
      "metadata": {
        "id": "WYprT8whbYiM",
        "colab": {
          "base_uri": "https://localhost:8080/"
        },
        "outputId": "c7278a4c-7151-4604-e6b0-ed3096753268"
      },
      "source": [
        "result = model.fit(train_data, train_label, batch_size=16, epochs=128, validation_data=(test_data, test_label))"
      ],
      "execution_count": null,
      "outputs": [
        {
          "output_type": "stream",
          "text": [
            "Epoch 1/128\n",
            "57/57 [==============================] - 6s 84ms/step - loss: 2.2057 - accuracy: 0.2443 - val_loss: 1.9774 - val_accuracy: 0.1770\n",
            "Epoch 2/128\n",
            "57/57 [==============================] - 4s 70ms/step - loss: 1.5946 - accuracy: 0.4667 - val_loss: 2.0348 - val_accuracy: 0.1770\n",
            "Epoch 3/128\n",
            "57/57 [==============================] - 4s 67ms/step - loss: 1.3586 - accuracy: 0.5577 - val_loss: 2.0122 - val_accuracy: 0.2434\n",
            "Epoch 4/128\n",
            "57/57 [==============================] - 4s 62ms/step - loss: 1.1794 - accuracy: 0.6140 - val_loss: 2.0881 - val_accuracy: 0.2345\n",
            "Epoch 5/128\n",
            "57/57 [==============================] - 4s 67ms/step - loss: 1.0493 - accuracy: 0.6721 - val_loss: 2.9597 - val_accuracy: 0.1239\n",
            "Epoch 6/128\n",
            "57/57 [==============================] - 3s 60ms/step - loss: 0.9823 - accuracy: 0.6763 - val_loss: 3.4438 - val_accuracy: 0.0796\n",
            "Epoch 7/128\n",
            "57/57 [==============================] - 3s 61ms/step - loss: 0.9197 - accuracy: 0.6974 - val_loss: 3.2594 - val_accuracy: 0.1283\n",
            "Epoch 8/128\n",
            "57/57 [==============================] - 4s 61ms/step - loss: 0.8738 - accuracy: 0.7128 - val_loss: 3.3701 - val_accuracy: 0.1283\n",
            "Epoch 9/128\n",
            "57/57 [==============================] - 4s 64ms/step - loss: 0.7990 - accuracy: 0.7453 - val_loss: 3.1539 - val_accuracy: 0.1150\n",
            "Epoch 10/128\n",
            "57/57 [==============================] - 4s 62ms/step - loss: 0.7625 - accuracy: 0.7728 - val_loss: 3.0942 - val_accuracy: 0.1150\n",
            "Epoch 11/128\n",
            "57/57 [==============================] - 3s 59ms/step - loss: 0.6689 - accuracy: 0.8039 - val_loss: 2.1767 - val_accuracy: 0.2478\n",
            "Epoch 12/128\n",
            "57/57 [==============================] - 4s 64ms/step - loss: 0.6123 - accuracy: 0.8007 - val_loss: 2.1618 - val_accuracy: 0.2522\n",
            "Epoch 13/128\n",
            "57/57 [==============================] - 4s 65ms/step - loss: 0.6709 - accuracy: 0.7883 - val_loss: 2.0746 - val_accuracy: 0.2699\n",
            "Epoch 14/128\n",
            "57/57 [==============================] - 4s 71ms/step - loss: 0.5903 - accuracy: 0.8244 - val_loss: 2.0715 - val_accuracy: 0.3097\n",
            "Epoch 15/128\n",
            "57/57 [==============================] - 4s 66ms/step - loss: 0.5398 - accuracy: 0.8448 - val_loss: 1.8801 - val_accuracy: 0.3584\n",
            "Epoch 16/128\n",
            "57/57 [==============================] - 3s 61ms/step - loss: 0.5299 - accuracy: 0.8556 - val_loss: 1.2935 - val_accuracy: 0.5221\n",
            "Epoch 17/128\n",
            "57/57 [==============================] - 3s 60ms/step - loss: 0.4384 - accuracy: 0.8795 - val_loss: 1.0224 - val_accuracy: 0.6549\n",
            "Epoch 18/128\n",
            "57/57 [==============================] - 4s 66ms/step - loss: 0.4581 - accuracy: 0.8844 - val_loss: 1.1293 - val_accuracy: 0.5929\n",
            "Epoch 19/128\n",
            "57/57 [==============================] - 4s 64ms/step - loss: 0.3990 - accuracy: 0.9004 - val_loss: 1.2425 - val_accuracy: 0.5221\n",
            "Epoch 20/128\n",
            "57/57 [==============================] - 3s 60ms/step - loss: 0.4063 - accuracy: 0.8863 - val_loss: 0.8069 - val_accuracy: 0.7168\n",
            "Epoch 21/128\n",
            "57/57 [==============================] - 3s 60ms/step - loss: 0.3375 - accuracy: 0.9228 - val_loss: 0.9483 - val_accuracy: 0.6549\n",
            "Epoch 22/128\n",
            "57/57 [==============================] - 3s 60ms/step - loss: 0.3084 - accuracy: 0.9385 - val_loss: 0.8815 - val_accuracy: 0.6903\n",
            "Epoch 23/128\n",
            "57/57 [==============================] - 3s 60ms/step - loss: 0.2924 - accuracy: 0.9400 - val_loss: 0.8753 - val_accuracy: 0.6991\n",
            "Epoch 24/128\n",
            "57/57 [==============================] - 4s 64ms/step - loss: 0.2782 - accuracy: 0.9355 - val_loss: 0.7606 - val_accuracy: 0.7301\n",
            "Epoch 25/128\n",
            "57/57 [==============================] - 4s 62ms/step - loss: 0.2231 - accuracy: 0.9648 - val_loss: 0.8604 - val_accuracy: 0.7080\n",
            "Epoch 26/128\n",
            "57/57 [==============================] - 4s 62ms/step - loss: 0.2470 - accuracy: 0.9542 - val_loss: 0.8225 - val_accuracy: 0.7212\n",
            "Epoch 27/128\n",
            "57/57 [==============================] - 4s 62ms/step - loss: 0.1927 - accuracy: 0.9646 - val_loss: 0.8317 - val_accuracy: 0.7124\n",
            "Epoch 28/128\n",
            "57/57 [==============================] - 4s 65ms/step - loss: 0.1935 - accuracy: 0.9622 - val_loss: 0.8799 - val_accuracy: 0.7168\n",
            "Epoch 29/128\n",
            "57/57 [==============================] - 3s 60ms/step - loss: 0.1656 - accuracy: 0.9790 - val_loss: 0.8247 - val_accuracy: 0.7389\n",
            "Epoch 30/128\n",
            "57/57 [==============================] - 3s 61ms/step - loss: 0.1477 - accuracy: 0.9749 - val_loss: 1.1114 - val_accuracy: 0.6637\n",
            "Epoch 31/128\n",
            "57/57 [==============================] - 3s 61ms/step - loss: 0.1149 - accuracy: 0.9850 - val_loss: 0.9017 - val_accuracy: 0.6991\n",
            "Epoch 32/128\n",
            "57/57 [==============================] - 3s 61ms/step - loss: 0.1074 - accuracy: 0.9897 - val_loss: 0.8226 - val_accuracy: 0.7566\n",
            "Epoch 33/128\n",
            "57/57 [==============================] - 4s 64ms/step - loss: 0.0940 - accuracy: 0.9927 - val_loss: 0.8388 - val_accuracy: 0.7345\n",
            "Epoch 34/128\n",
            "57/57 [==============================] - 4s 62ms/step - loss: 0.0782 - accuracy: 0.9968 - val_loss: 0.8405 - val_accuracy: 0.7301\n",
            "Epoch 35/128\n",
            "57/57 [==============================] - 4s 64ms/step - loss: 0.0725 - accuracy: 0.9951 - val_loss: 0.7598 - val_accuracy: 0.7522\n",
            "Epoch 36/128\n",
            "57/57 [==============================] - 4s 61ms/step - loss: 0.0692 - accuracy: 0.9928 - val_loss: 0.8070 - val_accuracy: 0.7434\n",
            "Epoch 37/128\n",
            "57/57 [==============================] - 4s 69ms/step - loss: 0.0539 - accuracy: 0.9991 - val_loss: 0.8371 - val_accuracy: 0.7212\n",
            "Epoch 38/128\n",
            "57/57 [==============================] - 4s 67ms/step - loss: 0.0574 - accuracy: 0.9966 - val_loss: 0.7471 - val_accuracy: 0.7743\n",
            "Epoch 39/128\n",
            "57/57 [==============================] - 3s 61ms/step - loss: 0.0556 - accuracy: 0.9972 - val_loss: 0.8183 - val_accuracy: 0.7434\n",
            "Epoch 40/128\n",
            "57/57 [==============================] - 4s 65ms/step - loss: 0.0404 - accuracy: 0.9981 - val_loss: 0.7639 - val_accuracy: 0.7743\n",
            "Epoch 41/128\n",
            "57/57 [==============================] - 4s 62ms/step - loss: 0.0358 - accuracy: 0.9998 - val_loss: 0.7920 - val_accuracy: 0.7611\n",
            "Epoch 42/128\n",
            "57/57 [==============================] - 4s 63ms/step - loss: 0.0373 - accuracy: 1.0000 - val_loss: 0.9345 - val_accuracy: 0.6903\n",
            "Epoch 43/128\n",
            "57/57 [==============================] - 3s 61ms/step - loss: 0.0304 - accuracy: 1.0000 - val_loss: 0.7767 - val_accuracy: 0.7611\n",
            "Epoch 44/128\n",
            "57/57 [==============================] - 4s 71ms/step - loss: 0.0270 - accuracy: 1.0000 - val_loss: 0.7883 - val_accuracy: 0.7699\n",
            "Epoch 45/128\n",
            "57/57 [==============================] - 4s 64ms/step - loss: 0.0244 - accuracy: 1.0000 - val_loss: 0.7817 - val_accuracy: 0.7478\n",
            "Epoch 46/128\n",
            "57/57 [==============================] - 4s 63ms/step - loss: 0.0234 - accuracy: 1.0000 - val_loss: 0.8058 - val_accuracy: 0.7434\n",
            "Epoch 47/128\n",
            "57/57 [==============================] - 4s 69ms/step - loss: 0.0214 - accuracy: 1.0000 - val_loss: 0.7782 - val_accuracy: 0.7611\n",
            "Epoch 48/128\n",
            "57/57 [==============================] - 4s 62ms/step - loss: 0.0191 - accuracy: 1.0000 - val_loss: 0.8027 - val_accuracy: 0.7611\n",
            "Epoch 49/128\n",
            "57/57 [==============================] - 4s 62ms/step - loss: 0.0172 - accuracy: 1.0000 - val_loss: 0.7985 - val_accuracy: 0.7611\n",
            "Epoch 50/128\n",
            "57/57 [==============================] - 4s 63ms/step - loss: 0.0182 - accuracy: 1.0000 - val_loss: 0.8168 - val_accuracy: 0.7478\n",
            "Epoch 51/128\n",
            "57/57 [==============================] - 4s 67ms/step - loss: 0.0170 - accuracy: 1.0000 - val_loss: 0.8133 - val_accuracy: 0.7611\n",
            "Epoch 52/128\n",
            "57/57 [==============================] - 4s 70ms/step - loss: 0.0199 - accuracy: 1.0000 - val_loss: 0.8261 - val_accuracy: 0.7345\n",
            "Epoch 53/128\n",
            "57/57 [==============================] - 4s 63ms/step - loss: 0.0160 - accuracy: 1.0000 - val_loss: 0.8019 - val_accuracy: 0.7611\n",
            "Epoch 54/128\n",
            "57/57 [==============================] - 3s 61ms/step - loss: 0.0151 - accuracy: 1.0000 - val_loss: 0.8206 - val_accuracy: 0.7478\n",
            "Epoch 55/128\n",
            "57/57 [==============================] - 4s 64ms/step - loss: 0.0137 - accuracy: 1.0000 - val_loss: 0.8105 - val_accuracy: 0.7478\n",
            "Epoch 56/128\n",
            "57/57 [==============================] - 3s 61ms/step - loss: 0.0147 - accuracy: 1.0000 - val_loss: 0.8689 - val_accuracy: 0.7522\n",
            "Epoch 57/128\n",
            "57/57 [==============================] - 4s 68ms/step - loss: 0.0125 - accuracy: 1.0000 - val_loss: 0.8322 - val_accuracy: 0.7522\n",
            "Epoch 58/128\n",
            "57/57 [==============================] - 4s 62ms/step - loss: 0.0113 - accuracy: 1.0000 - val_loss: 0.8647 - val_accuracy: 0.7434\n",
            "Epoch 59/128\n",
            "57/57 [==============================] - 4s 68ms/step - loss: 0.0108 - accuracy: 1.0000 - val_loss: 0.8332 - val_accuracy: 0.7522\n",
            "Epoch 60/128\n",
            "57/57 [==============================] - 4s 63ms/step - loss: 0.0103 - accuracy: 1.0000 - val_loss: 0.8356 - val_accuracy: 0.7478\n",
            "Epoch 61/128\n",
            "57/57 [==============================] - 4s 62ms/step - loss: 0.0120 - accuracy: 1.0000 - val_loss: 0.8167 - val_accuracy: 0.7522\n",
            "Epoch 62/128\n",
            "57/57 [==============================] - 4s 62ms/step - loss: 0.0105 - accuracy: 1.0000 - val_loss: 0.8244 - val_accuracy: 0.7566\n",
            "Epoch 63/128\n",
            "57/57 [==============================] - 3s 61ms/step - loss: 0.0089 - accuracy: 1.0000 - val_loss: 0.8212 - val_accuracy: 0.7566\n",
            "Epoch 64/128\n",
            "57/57 [==============================] - 4s 65ms/step - loss: 0.0099 - accuracy: 1.0000 - val_loss: 0.8232 - val_accuracy: 0.7655\n",
            "Epoch 65/128\n",
            "57/57 [==============================] - 4s 65ms/step - loss: 0.0089 - accuracy: 1.0000 - val_loss: 0.8457 - val_accuracy: 0.7611\n",
            "Epoch 66/128\n",
            "57/57 [==============================] - 4s 65ms/step - loss: 0.0078 - accuracy: 1.0000 - val_loss: 0.8441 - val_accuracy: 0.7699\n",
            "Epoch 67/128\n",
            "57/57 [==============================] - 4s 67ms/step - loss: 0.0088 - accuracy: 1.0000 - val_loss: 0.8380 - val_accuracy: 0.7832\n",
            "Epoch 68/128\n",
            "57/57 [==============================] - 4s 71ms/step - loss: 0.0087 - accuracy: 1.0000 - val_loss: 0.8594 - val_accuracy: 0.7655\n",
            "Epoch 69/128\n",
            "57/57 [==============================] - 4s 64ms/step - loss: 0.0071 - accuracy: 1.0000 - val_loss: 0.8619 - val_accuracy: 0.7699\n",
            "Epoch 70/128\n",
            "57/57 [==============================] - 4s 72ms/step - loss: 0.0076 - accuracy: 1.0000 - val_loss: 0.8559 - val_accuracy: 0.7655\n",
            "Epoch 71/128\n",
            "57/57 [==============================] - 4s 68ms/step - loss: 0.0067 - accuracy: 1.0000 - val_loss: 0.8608 - val_accuracy: 0.7611\n",
            "Epoch 72/128\n",
            "57/57 [==============================] - 4s 73ms/step - loss: 0.0064 - accuracy: 1.0000 - val_loss: 0.8720 - val_accuracy: 0.7566\n",
            "Epoch 73/128\n",
            "57/57 [==============================] - 4s 68ms/step - loss: 0.0072 - accuracy: 1.0000 - val_loss: 0.8793 - val_accuracy: 0.7566\n",
            "Epoch 74/128\n",
            "57/57 [==============================] - 4s 64ms/step - loss: 0.0057 - accuracy: 1.0000 - val_loss: 0.8707 - val_accuracy: 0.7478\n",
            "Epoch 75/128\n",
            "57/57 [==============================] - 4s 66ms/step - loss: 0.0066 - accuracy: 1.0000 - val_loss: 0.8695 - val_accuracy: 0.7566\n",
            "Epoch 76/128\n",
            "57/57 [==============================] - 4s 67ms/step - loss: 0.0053 - accuracy: 1.0000 - val_loss: 0.8597 - val_accuracy: 0.7566\n",
            "Epoch 77/128\n",
            "57/57 [==============================] - 4s 64ms/step - loss: 0.0056 - accuracy: 1.0000 - val_loss: 0.8756 - val_accuracy: 0.7434\n",
            "Epoch 78/128\n",
            "57/57 [==============================] - 4s 62ms/step - loss: 0.0058 - accuracy: 1.0000 - val_loss: 0.9145 - val_accuracy: 0.7566\n",
            "Epoch 79/128\n",
            "57/57 [==============================] - 4s 70ms/step - loss: 0.0062 - accuracy: 1.0000 - val_loss: 0.8840 - val_accuracy: 0.7478\n",
            "Epoch 80/128\n",
            "57/57 [==============================] - 4s 63ms/step - loss: 0.0057 - accuracy: 1.0000 - val_loss: 0.8990 - val_accuracy: 0.7522\n",
            "Epoch 81/128\n",
            "57/57 [==============================] - 4s 62ms/step - loss: 0.0058 - accuracy: 1.0000 - val_loss: 0.8932 - val_accuracy: 0.7611\n",
            "Epoch 82/128\n",
            "57/57 [==============================] - 3s 61ms/step - loss: 0.0049 - accuracy: 1.0000 - val_loss: 0.9016 - val_accuracy: 0.7434\n",
            "Epoch 83/128\n",
            "57/57 [==============================] - 4s 62ms/step - loss: 0.0050 - accuracy: 1.0000 - val_loss: 0.9166 - val_accuracy: 0.7434\n",
            "Epoch 84/128\n",
            "57/57 [==============================] - 4s 67ms/step - loss: 0.0046 - accuracy: 1.0000 - val_loss: 0.9122 - val_accuracy: 0.7478\n",
            "Epoch 85/128\n",
            "57/57 [==============================] - 4s 65ms/step - loss: 0.0044 - accuracy: 1.0000 - val_loss: 0.9116 - val_accuracy: 0.7478\n",
            "Epoch 86/128\n",
            "57/57 [==============================] - 3s 60ms/step - loss: 0.0042 - accuracy: 1.0000 - val_loss: 0.9030 - val_accuracy: 0.7566\n",
            "Epoch 87/128\n",
            "57/57 [==============================] - 3s 60ms/step - loss: 0.0035 - accuracy: 1.0000 - val_loss: 0.9066 - val_accuracy: 0.7478\n",
            "Epoch 88/128\n",
            "57/57 [==============================] - 3s 60ms/step - loss: 0.0035 - accuracy: 1.0000 - val_loss: 0.9142 - val_accuracy: 0.7611\n",
            "Epoch 89/128\n",
            "57/57 [==============================] - 3s 61ms/step - loss: 0.0031 - accuracy: 1.0000 - val_loss: 0.9079 - val_accuracy: 0.7522\n",
            "Epoch 90/128\n",
            "57/57 [==============================] - 4s 63ms/step - loss: 0.0033 - accuracy: 1.0000 - val_loss: 0.8976 - val_accuracy: 0.7566\n",
            "Epoch 91/128\n",
            "57/57 [==============================] - 4s 64ms/step - loss: 0.0035 - accuracy: 1.0000 - val_loss: 0.9087 - val_accuracy: 0.7611\n",
            "Epoch 92/128\n",
            "57/57 [==============================] - 3s 60ms/step - loss: 0.0034 - accuracy: 1.0000 - val_loss: 0.9190 - val_accuracy: 0.7566\n",
            "Epoch 93/128\n",
            "57/57 [==============================] - 4s 62ms/step - loss: 0.0028 - accuracy: 1.0000 - val_loss: 0.9285 - val_accuracy: 0.7611\n",
            "Epoch 94/128\n",
            "57/57 [==============================] - 4s 63ms/step - loss: 0.0028 - accuracy: 1.0000 - val_loss: 0.9147 - val_accuracy: 0.7522\n",
            "Epoch 95/128\n",
            "57/57 [==============================] - 4s 66ms/step - loss: 0.0027 - accuracy: 1.0000 - val_loss: 0.9226 - val_accuracy: 0.7522\n",
            "Epoch 96/128\n",
            "57/57 [==============================] - 4s 63ms/step - loss: 0.0026 - accuracy: 1.0000 - val_loss: 0.9352 - val_accuracy: 0.7566\n",
            "Epoch 97/128\n",
            "57/57 [==============================] - 4s 68ms/step - loss: 0.0035 - accuracy: 1.0000 - val_loss: 0.9485 - val_accuracy: 0.7434\n",
            "Epoch 98/128\n",
            "57/57 [==============================] - 4s 65ms/step - loss: 0.0025 - accuracy: 1.0000 - val_loss: 0.9344 - val_accuracy: 0.7566\n",
            "Epoch 99/128\n",
            "57/57 [==============================] - 4s 63ms/step - loss: 0.0026 - accuracy: 1.0000 - val_loss: 0.9347 - val_accuracy: 0.7522\n",
            "Epoch 100/128\n",
            "57/57 [==============================] - 4s 61ms/step - loss: 0.0025 - accuracy: 1.0000 - val_loss: 0.9522 - val_accuracy: 0.7566\n",
            "Epoch 101/128\n",
            "57/57 [==============================] - 4s 64ms/step - loss: 0.0020 - accuracy: 1.0000 - val_loss: 0.9299 - val_accuracy: 0.7655\n",
            "Epoch 102/128\n",
            "57/57 [==============================] - 4s 65ms/step - loss: 0.0021 - accuracy: 1.0000 - val_loss: 0.9123 - val_accuracy: 0.7566\n",
            "Epoch 103/128\n",
            "57/57 [==============================] - 4s 68ms/step - loss: 0.0022 - accuracy: 1.0000 - val_loss: 0.9427 - val_accuracy: 0.7611\n",
            "Epoch 104/128\n",
            "57/57 [==============================] - 4s 69ms/step - loss: 0.0020 - accuracy: 1.0000 - val_loss: 0.9642 - val_accuracy: 0.7566\n",
            "Epoch 105/128\n",
            "57/57 [==============================] - 4s 63ms/step - loss: 0.0022 - accuracy: 1.0000 - val_loss: 0.9332 - val_accuracy: 0.7699\n",
            "Epoch 106/128\n",
            "57/57 [==============================] - 4s 69ms/step - loss: 0.0019 - accuracy: 1.0000 - val_loss: 0.9402 - val_accuracy: 0.7566\n",
            "Epoch 107/128\n",
            "57/57 [==============================] - 4s 66ms/step - loss: 0.0019 - accuracy: 1.0000 - val_loss: 0.9573 - val_accuracy: 0.7611\n",
            "Epoch 108/128\n",
            "57/57 [==============================] - 4s 67ms/step - loss: 0.0020 - accuracy: 1.0000 - val_loss: 0.9664 - val_accuracy: 0.7566\n",
            "Epoch 109/128\n",
            "57/57 [==============================] - 4s 65ms/step - loss: 0.0017 - accuracy: 1.0000 - val_loss: 0.9692 - val_accuracy: 0.7655\n",
            "Epoch 110/128\n",
            "57/57 [==============================] - 4s 64ms/step - loss: 0.0018 - accuracy: 1.0000 - val_loss: 0.9434 - val_accuracy: 0.7611\n",
            "Epoch 111/128\n",
            "57/57 [==============================] - 4s 66ms/step - loss: 0.0014 - accuracy: 1.0000 - val_loss: 0.9773 - val_accuracy: 0.7478\n",
            "Epoch 112/128\n",
            "57/57 [==============================] - 4s 68ms/step - loss: 0.0017 - accuracy: 1.0000 - val_loss: 0.9721 - val_accuracy: 0.7655\n",
            "Epoch 113/128\n",
            "57/57 [==============================] - 4s 66ms/step - loss: 0.0015 - accuracy: 1.0000 - val_loss: 0.9762 - val_accuracy: 0.7566\n",
            "Epoch 114/128\n",
            "57/57 [==============================] - 4s 66ms/step - loss: 0.0013 - accuracy: 1.0000 - val_loss: 0.9770 - val_accuracy: 0.7699\n",
            "Epoch 115/128\n",
            "57/57 [==============================] - 4s 67ms/step - loss: 0.0015 - accuracy: 1.0000 - val_loss: 0.9956 - val_accuracy: 0.7566\n",
            "Epoch 116/128\n",
            "57/57 [==============================] - 4s 68ms/step - loss: 0.0012 - accuracy: 1.0000 - val_loss: 0.9762 - val_accuracy: 0.7699\n",
            "Epoch 117/128\n",
            "57/57 [==============================] - 4s 63ms/step - loss: 0.0014 - accuracy: 1.0000 - val_loss: 0.9870 - val_accuracy: 0.7655\n",
            "Epoch 118/128\n",
            "57/57 [==============================] - 4s 66ms/step - loss: 0.0012 - accuracy: 1.0000 - val_loss: 0.9776 - val_accuracy: 0.7522\n",
            "Epoch 119/128\n",
            "57/57 [==============================] - 4s 62ms/step - loss: 0.0012 - accuracy: 1.0000 - val_loss: 0.9662 - val_accuracy: 0.7699\n",
            "Epoch 120/128\n",
            "57/57 [==============================] - 4s 68ms/step - loss: 9.6079e-04 - accuracy: 1.0000 - val_loss: 0.9774 - val_accuracy: 0.7655\n",
            "Epoch 121/128\n",
            "57/57 [==============================] - 4s 67ms/step - loss: 0.0012 - accuracy: 1.0000 - val_loss: 0.9723 - val_accuracy: 0.7566\n",
            "Epoch 122/128\n",
            "57/57 [==============================] - 4s 66ms/step - loss: 0.0218 - accuracy: 0.9944 - val_loss: 1.6316 - val_accuracy: 0.5177\n",
            "Epoch 123/128\n",
            "57/57 [==============================] - 4s 69ms/step - loss: 0.6041 - accuracy: 0.7962 - val_loss: 1.1551 - val_accuracy: 0.5929\n",
            "Epoch 124/128\n",
            "57/57 [==============================] - 4s 67ms/step - loss: 0.6613 - accuracy: 0.7571 - val_loss: 1.3714 - val_accuracy: 0.5398\n",
            "Epoch 125/128\n",
            "57/57 [==============================] - 4s 62ms/step - loss: 0.4800 - accuracy: 0.8255 - val_loss: 1.2074 - val_accuracy: 0.5752\n",
            "Epoch 126/128\n",
            "57/57 [==============================] - 4s 68ms/step - loss: 0.3172 - accuracy: 0.9041 - val_loss: 1.2870 - val_accuracy: 0.5929\n",
            "Epoch 127/128\n",
            "57/57 [==============================] - 4s 68ms/step - loss: 0.3128 - accuracy: 0.9003 - val_loss: 1.1770 - val_accuracy: 0.5752\n",
            "Epoch 128/128\n",
            "57/57 [==============================] - 4s 67ms/step - loss: 0.2319 - accuracy: 0.9326 - val_loss: 1.1923 - val_accuracy: 0.5929\n"
          ],
          "name": "stdout"
        }
      ]
    },
    {
      "cell_type": "code",
      "metadata": {
        "id": "1cpfwxQ9bnNc",
        "colab": {
          "base_uri": "https://localhost:8080/"
        },
        "outputId": "b38509ba-93f6-4279-9c70-2cb39216f3b3"
      },
      "source": [
        "model.summary()"
      ],
      "execution_count": null,
      "outputs": [
        {
          "output_type": "stream",
          "text": [
            "Model: \"sequential\"\n",
            "_________________________________________________________________\n",
            "Layer (type)                 Output Shape              Param #   \n",
            "=================================================================\n",
            "conv2d (Conv2D)              (None, 32, 18, 32)        320       \n",
            "_________________________________________________________________\n",
            "batch_normalization (BatchNo (None, 32, 18, 32)        128       \n",
            "_________________________________________________________________\n",
            "max_pooling2d (MaxPooling2D) (None, 31, 17, 32)        0         \n",
            "_________________________________________________________________\n",
            "conv2d_1 (Conv2D)            (None, 31, 17, 32)        9248      \n",
            "_________________________________________________________________\n",
            "batch_normalization_1 (Batch (None, 31, 17, 32)        128       \n",
            "_________________________________________________________________\n",
            "max_pooling2d_1 (MaxPooling2 (None, 30, 16, 32)        0         \n",
            "_________________________________________________________________\n",
            "flatten (Flatten)            (None, 15360)             0         \n",
            "_________________________________________________________________\n",
            "dense (Dense)                (None, 128)               1966208   \n",
            "_________________________________________________________________\n",
            "dense_1 (Dense)              (None, 7)                 903       \n",
            "=================================================================\n",
            "Total params: 1,976,935\n",
            "Trainable params: 1,976,807\n",
            "Non-trainable params: 128\n",
            "_________________________________________________________________\n"
          ],
          "name": "stdout"
        }
      ]
    },
    {
      "cell_type": "code",
      "metadata": {
        "id": "EuFuoS-IbvIk",
        "colab": {
          "base_uri": "https://localhost:8080/",
          "height": 295
        },
        "outputId": "8128c8b5-7af7-4dad-b4a3-e7d8b79fb945"
      },
      "source": [
        "plt.plot(result.history[\"accuracy\"])\r\n",
        "plt.plot(result.history[\"val_accuracy\"])\r\n",
        "plt.title(\"Model accuracy\")\r\n",
        "plt.xlabel(\"Epoch\")\r\n",
        "plt.ylabel(\"Accuracy\")\r\n",
        "plt.legend([\"Train\", \"Test\"], loc=\"upper left\")\r\n",
        "plt.ylim(0.5, 1.05)\r\n",
        "plt.grid()\r\n",
        "plt.show()"
      ],
      "execution_count": null,
      "outputs": [
        {
          "output_type": "display_data",
          "data": {
            "image/png": "[encoded data removed]",
            "text/plain": [
              "<Figure size 432x288 with 1 Axes>"
            ]
          },
          "metadata": {
            "tags": [],
            "needs_background": "light"
          }
        }
      ]
    },
    {
      "cell_type": "code",
      "metadata": {
        "id": "18x3Mh-ib7Zs",
        "colab": {
          "base_uri": "https://localhost:8080/",
          "height": 295
        },
        "outputId": "8b33d49f-c932-4c15-ce92-935548523e7e"
      },
      "source": [
        "plt.plot(result.history[\"loss\"])\r\n",
        "plt.plot(result.history[\"val_loss\"])\r\n",
        "plt.title(\"Model loss\")\r\n",
        "plt.xlabel(\"Epoch\")\r\n",
        "plt.ylabel(\"Loss\")\r\n",
        "plt.legend([\"Train\", \"Test\"], loc=\"upper left\")\r\n",
        "plt.ylim(-0.5, 2)\r\n",
        "plt.grid()\r\n",
        "plt.show()"
      ],
      "execution_count": null,
      "outputs": [
        {
          "output_type": "display_data",
          "data": {
            "image/png": "[encoded data removed]",
            "text/plain": [
              "<Figure size 432x288 with 1 Axes>"
            ]
          },
          "metadata": {
            "tags": [],
            "needs_background": "light"
          }
        }
      ]
    },
    {
      "cell_type": "code",
      "metadata": {
        "id": "9_b1yc7wB83q"
      },
      "source": [
        "model.save(\"identification.h5\")"
      ],
      "execution_count": null,
      "outputs": []
    }
  ]
}