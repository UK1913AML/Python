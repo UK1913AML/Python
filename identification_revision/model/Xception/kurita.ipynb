{
  "nbformat": 4,
  "nbformat_minor": 0,
  "metadata": {
    "colab": {
      "name": "kurita",
      "provenance": [],
      "collapsed_sections": []
    },
    "kernelspec": {
      "display_name": "Python 3",
      "name": "python3"
    },
    "accelerator": "GPU"
  },
  "cells": [
    {
      "cell_type": "code",
      "metadata": {
        "id": "DcSZ1c0fnm0o"
      },
      "source": [
        "%tensorflow_version 2.x\r\n",
        "from glob import glob\r\n",
        "from keras import optimizers\r\n",
        "from keras.applications.xception import Xception\r\n",
        "from keras.callbacks import EarlyStopping, ModelCheckpoint, ReduceLROnPlateau\r\n",
        "from keras.layers import Activation, Conv2D, Dense, Dropout, Flatten, GlobalAveragePooling2D, Input, MaxPooling2D\r\n",
        "from keras.models import Model, Sequential\r\n",
        "from keras.optimizers import Adamax\r\n",
        "from keras.utils.np_utils import to_categorical\r\n",
        "from sklearn.model_selection import train_test_split\r\n",
        "from tensorflow import keras\r\n",
        "from tensorflow.python.keras.preprocessing.image import ImageDataGenerator\r\n",
        "import cv2\r\n",
        "import matplotlib.pyplot as plt\r\n",
        "import numpy as np\r\n",
        "import os"
      ],
      "execution_count": null,
      "outputs": []
    },
    {
      "cell_type": "code",
      "metadata": {
        "id": "Mh2s0qoMSi1U",
        "colab": {
          "base_uri": "https://localhost:8080/"
        },
        "outputId": "9d2c5573-5a95-4836-e4a1-eda4b2fe416c"
      },
      "source": [
        "path = glob(\"kurita/*/\")\n",
        "data = []\n",
        "label = [] \n",
        "total = 0\n",
        "x = 160\n",
        "y = 90\n",
        "\n",
        "def append_data(directory, total):\n",
        "  files = os.listdir(directory)\n",
        "  print(files)\n",
        "  for image in files:\n",
        "    if image.endswith(\".jpg\"):\n",
        "      image = cv2.imread(directory + image)\n",
        "      image = cv2.resize(image, (x, y))\n",
        "      image = image.flatten()\n",
        "      data.append(image)\n",
        "      label.append(total)\n",
        "\n",
        "for i in path:\n",
        "  append_data(i, total)\n",
        "  total += 1"
      ],
      "execution_count": null,
      "outputs": [
        {
          "output_type": "stream",
          "text": [
            "['kaibara_141.jpg', 'kyogoku_018.jpg', 'kyogoku_019.jpg', 'kyogoku_020.jpg', 'kyogoku_021.jpg', 'kyogoku_022.jpg', 'kyogoku_023.jpg', 'kaibara_142.jpg', 'kyogoku_025.jpg', 'kyogoku_026.jpg', 'kyogoku_027.jpg', 'kyogoku_028.jpg', 'kaibara_143.jpg', 'kaibara_144.jpg', 'kaibara_145.jpg', 'kyogoku_029.jpg', 'kyogoku_030.jpg', 'tomii_156.jpg', 'tanimura_050.jpg', 'tanimura_052.jpg', 'ohhara_184.jpg', 'kaibara_146.jpg', 'kaibara_147.jpg', 'kaibara_148.jpg', 'kaibara_149.jpg', 'kaibara_150.jpg', 'kaibara_151.jpg', 'kaibara_152.jpg', 'kaibara_153.jpg', 'kaibara_154.jpg', 'ohhara_187.jpg', 'ohhara_188.jpg', 'ohhara_189.jpg', 'kaibara_155.jpg', 'kaibara_156.jpg', 'kaibara_157.jpg', 'kaibara_158.jpg', 'kaibara_159.jpg', 'kaibara_160.jpg', 'kaibara_161.jpg', 'kaibara_162.jpg', 'kaibara_163.jpg', 'kaibara_164.jpg', 'kaibara_165.jpg', 'kaibara_166.jpg', 'kaibara_167.jpg', 'kaibara_168.jpg', 'kaibara_169.jpg', 'kaibara_170.jpg', 'kaibara_171.jpg', 'kaibara_172.jpg', 'kaibara_173.jpg', 'kaibara_174.jpg', 'kaibara_175.jpg', 'kaibara_176.jpg', 'kaibara_177.jpg', 'kaibara_178.jpg', 'ohhara_192.jpg', 'tomii_157.jpg', 'tomii_158.jpg', 'yamaoka_171.jpg', 'tomii_159.jpg', 'yamaoka_172.jpg', 'yamaoka_173.jpg', 'tomii_160.jpg', 'tomii_161.jpg', 'tomii_162.jpg', 'yamaoka_174.jpg', 'tomii_163.jpg', 'tomii_164.jpg', 'tomii_165.jpg', 'yamaoka_175.jpg', 'yamaoka_176.jpg', 'ohhara_193.jpg', 'ohhara_194.jpg', 'ohhara_195.jpg', 'ohhara_196.jpg', 'ohhara_198.jpg', 'ohhara_199.jpg', 'ohhara_001.jpg', 'ohhara_002.jpg', 'ohhara_003.jpg', 'ohhara_004.jpg', 'ohhara_005.jpg', 'ohhara_006.jpg', 'tanimura_053.jpg', 'ohhara_007.jpg', 'ohhara_008.jpg', 'yamaoka_177.jpg', 'tomii_166.jpg', 'tomii_167.jpg', 'tomii_168.jpg', 'tomii_169.jpg', 'tomii_170.jpg', 'tanimura_054.jpg', 'tanimura_056.jpg', 'ohhara_013.jpg', 'tomii_171.jpg', 'ohhara_014.jpg', 'ohhara_015.jpg', 'tanimura_057.jpg', 'tanimura_058.jpg', 'tanimura_059.jpg', 'tomii_172.jpg', 'tomii_173.jpg', 'ohhara_016.jpg', 'tomii_174.jpg', 'tomii_175.jpg', 'tomii_176.jpg', 'tomii_177.jpg', 'tomii_178.jpg', 'tomii_179.jpg', 'tomii_180.jpg', 'tomii_181.jpg', 'tomii_182.jpg', 'tanimura_061.jpg', 'tanimura_062.jpg', 'tomii_183.jpg', 'tomii_184.jpg', 'tanimura_109.jpg', 'tanimura_110.jpg', 'tomii_185.jpg', 'tomii_186.jpg', 'tomii_187.jpg', 'tomii_188.jpg', 'tanimura_111.jpg', 'tomii_189.jpg', 'tomii_191.jpg', 'tomii_192.jpg', 'tomii_193.jpg', 'tomii_194.jpg', 'tomii_195.jpg', 'tomii_196.jpg', 'tomii_197.jpg', 'tomii_198.jpg', 'tomii_199.jpg', 'ohhara_024.jpg', 'kaibara_179.jpg', 'kaibara_180.jpg', 'kaibara_185.jpg', 'kaibara_186.jpg', 'yamaoka_180.jpg', 'kaibara_187.jpg', 'kaibara_188.jpg', 'kaibara_189.jpg', 'kaibara_190.jpg', 'yamaoka_181.jpg', 'kaibara_191.jpg', 'kaibara_194.jpg', 'kaibara_196.jpg', 'kaibara_197.jpg', 'kaibara_198.jpg', 'kaibara_199.jpg', 'kaibara_200.jpg', 'yamaoka_139.jpg', 'yamaoka_138.jpg', 'yamaoka_136.jpg', 'yamaoka_137.jpg', 'kaibara_098.jpg', 'kaibara_097.jpg', 'kyogoku_119.jpg', 'kyogoku_116.jpg', 'kyogoku_117.jpg', 'kyogoku_112.jpg', 'kyogoku_113.jpg', 'kyogoku_114.jpg', 'kyogoku_118.jpg', 'yamaoka_147.jpg', 'yamaoka_143.jpg', 'yamaoka_144.jpg', 'yamaoka_141.jpg', 'yamaoka_146.jpg', 'yamaoka_140.jpg', 'yamaoka_142.jpg', 'yamaoka_145.jpg', 'ohhara_177.jpg', 'ohhara_182.jpg', 'ohhara_181.jpg', 'ohhara_179.jpg', 'ohhara_178.jpg', 'ohhara_183.jpg', 'tanimura_016.jpg', 'tanimura_030.jpg', 'tanimura_012.jpg', 'tanimura_032.jpg', 'tanimura_025.jpg', 'tanimura_023.jpg', 'tanimura_017.jpg', 'tanimura_024.jpg', 'tanimura_013.jpg', 'tanimura_037.jpg', 'tanimura_018.jpg', 'tanimura_020.jpg', 'tanimura_021.jpg', 'tanimura_010.jpg', 'tanimura_035.jpg', 'tanimura_029.jpg', 'tanimura_014.jpg', 'tanimura_026.jpg', 'tanimura_009.jpg', 'tanimura_019.jpg', 'tanimura_038.jpg', 'tanimura_028.jpg', 'tanimura_036.jpg', 'tanimura_031.jpg', 'tanimura_034.jpg', 'tomii_150.jpg', 'tomii_142.jpg', 'tomii_143.jpg', 'tomii_147.jpg', 'tomii_140.jpg', 'tomii_144.jpg', 'tomii_151.jpg', 'tomii_148.jpg', 'tomii_149.jpg', 'tomii_141.jpg', 'tomii_146.jpg', 'tomii_145.jpg', 'kaibara_192.jpg', 'kaibara_117.jpg', 'kaibara_184.jpg', 'kaibara_101.jpg', 'kaibara_195.jpg', 'kaibara_182.jpg', 'kaibara_193.jpg', 'kaibara_181.jpg', 'kaibara_114.jpg', 'kaibara_183.jpg', 'kaibara_103.jpg', 'kyogoku_005.jpg', 'yamaoka_152.jpg', 'yamaoka_151.jpg', 'yamaoka_179.jpg', 'ohhara_011.jpg', 'ohhara_012.jpg', 'ohhara_185.jpg', 'ohhara_191.jpg', 'ohhara_023.jpg', 'ohhara_017.jpg', 'ohhara_019.jpg', 'ohhara_018.jpg', 'ohhara_022.jpg', 'tanimura_042.jpg', 'tanimura_046.jpg', 'tanimura_060.jpg', 'tomii_154.jpg', 'tomii_190.jpg', 'tomii_200.jpg', 'tomii_155.jpg', 'tanimura_043.jpg', 'tomii_001.jpg', 'ohhara_163.jpg', 'ohhara_164.jpg', 'tanimura_122.jpg', 'yamaoka_002.jpg', 'yamaoka_003.jpg', 'yamaoka_013.jpg', 'yamaoka_021.jpg', 'yamaoka_025.jpg', 'yamaoka_032.jpg', 'yamaoka_062.jpg', 'yamaoka_066.jpg', 'tomii_002.jpg', 'tomii_003.jpg', 'yamaoka_074.jpg', 'yamaoka_088.jpg', 'yamaoka_106.jpg', 'tomii_004.jpg', 'tomii_005.jpg', 'tomii_006.jpg', 'yamaoka_116.jpg', 'yamaoka_129.jpg', 'yamaoka_133.jpg', 'kaibara_009.jpg', 'kaibara_001.jpg', 'kaibara_002.jpg', 'kaibara_003.jpg', 'kaibara_004.jpg', 'kaibara_006.jpg', 'kaibara_007.jpg', 'kaibara_008.jpg', 'yamaoka_164.jpg', 'yamaoka_178.jpg', 'yamaoka_182.jpg', 'yamaoka_183.jpg', 'yamaoka_184.jpg', 'yamaoka_185.jpg', 'yamaoka_186.jpg', 'kaibara_010.jpg', 'kaibara_011.jpg', 'kaibara_012.jpg', 'kaibara_013.jpg', 'kaibara_014.jpg', 'kaibara_015.jpg', 'kaibara_016.jpg', 'yamaoka_192.jpg', 'yamaoka_193.jpg', 'yamaoka_195.jpg', 'yamaoka_196.jpg', 'yamaoka_197.jpg', 'tomii_010.jpg', 'tomii_011.jpg', 'tomii_012.jpg', 'yamaoka_006.jpg', 'yamaoka_008.jpg', 'yamaoka_009.jpg', 'yamaoka_011.jpg', 'tomii_013.jpg', 'tomii_014.jpg', 'tanimura_051.jpg', 'tanimura_108.jpg', 'tanimura_113.jpg', 'tomii_015.jpg', 'tomii_017.jpg', 'yamaoka_012.jpg', 'tomii_018.jpg', 'tomii_019.jpg', 'yamaoka_014.jpg', 'yamaoka_015.jpg', 'yamaoka_016.jpg', 'yamaoka_017.jpg', 'tomii_021.jpg', 'yamaoka_019.jpg', 'tomii_023.jpg', 'yamaoka_023.jpg', 'yamaoka_024.jpg', 'yamaoka_027.jpg', 'tomii_026.jpg', 'tomii_027.jpg', 'yamaoka_030.jpg', 'yamaoka_031.jpg', 'kaibara_005.jpg', 'yamaoka_096.jpg', 'yamaoka_154.jpg', 'yamaoka_148.jpg', 'yamaoka_157.jpg', 'yamaoka_001.jpg', 'yamaoka_118.jpg', 'yamaoka_170.jpg', 'yamaoka_191.jpg', 'yamaoka_199.jpg', 'yamaoka_194.jpg', 'yamaoka_190.jpg', 'yamaoka_188.jpg', 'yamaoka_187.jpg', 'yamaoka_028.jpg', 'yamaoka_200.jpg', 'yamaoka_010.jpg', 'yamaoka_026.jpg', 'yamaoka_007.jpg', 'yamaoka_189.jpg', 'yamaoka_029.jpg', 'yamaoka_022.jpg', 'yamaoka_005.jpg', 'yamaoka_018.jpg', 'yamaoka_004.jpg', 'yamaoka_198.jpg', 'yamaoka_020.jpg', 'ohhara_165.jpg', 'tanimura_116.jpg', 'tanimura_147.jpg', 'tanimura_027.jpg', 'tanimura_117.jpg', 'tanimura_039.jpg', 'tanimura_114.jpg', 'tanimura_135.jpg', 'tanimura_003.jpg', 'tanimura_107.jpg', 'tanimura_115.jpg', 'tanimura_118.jpg', 'tanimura_015.jpg', 'tomii_024.jpg', 'tomii_022.jpg', 'tomii_009.jpg', 'tomii_007.jpg', 'tomii_020.jpg', 'tomii_025.jpg', 'tomii_008.jpg', 'tomii_016.jpg', 'tomii_028.jpg', 'tomii_029.jpg', 'tomii_030.jpg', 'tomii_031.jpg', 'tomii_032.jpg', 'yamaoka_033.jpg', 'tomii_033.jpg', 'tomii_034.jpg', 'tomii_035.jpg', 'tomii_036.jpg', 'tomii_037.jpg', 'tomii_038.jpg', 'tomii_039.jpg', 'tomii_040.jpg', 'tomii_041.jpg', 'tomii_042.jpg', 'tomii_043.jpg', 'tomii_044.jpg', 'tomii_045.jpg', 'tomii_046.jpg', 'tomii_047.jpg', 'tomii_048.jpg', 'tomii_049.jpg', 'tomii_050.jpg', 'tomii_051.jpg', 'tomii_052.jpg', 'tomii_053.jpg', 'tomii_054.jpg', 'yamaoka_034.jpg', 'tomii_055.jpg', 'yamaoka_035.jpg', 'tomii_056.jpg', 'tomii_057.jpg', 'tomii_058.jpg', 'yamaoka_036.jpg', 'tomii_059.jpg', 'tomii_061.jpg', 'tomii_062.jpg', 'tomii_064.jpg', 'tomii_066.jpg', 'tomii_067.jpg', 'tomii_068.jpg', 'tomii_069.jpg', 'yamaoka_037.jpg', 'tomii_070.jpg', 'tomii_071.jpg', 'tomii_072.jpg', 'tomii_073.jpg', 'tomii_074.jpg', 'tomii_075.jpg', 'tomii_076.jpg', 'yamaoka_039.jpg', 'tomii_077.jpg', 'tomii_078.jpg', 'yamaoka_040.jpg', 'tomii_079.jpg', 'tanimura_120.jpg', 'tomii_080.jpg', 'tomii_081.jpg', 'yamaoka_042.jpg', 'yamaoka_043.jpg', 'yamaoka_045.jpg', 'tomii_082.jpg', 'tomii_083.jpg', 'tomii_084.jpg', 'tomii_085.jpg', 'tomii_086.jpg', 'kaibara_017.jpg', 'kaibara_018.jpg', 'kaibara_019.jpg', 'yamaoka_046.jpg', 'kaibara_020.jpg', 'kaibara_021.jpg', 'yamaoka_047.jpg', 'yamaoka_048.jpg', 'yamaoka_044.jpg', 'yamaoka_038.jpg', 'yamaoka_041.jpg', 'tanimura_119.jpg', 'tomii_060.jpg', 'tomii_063.jpg', 'tomii_065.jpg', 'ohhara_167.jpg', 'ohhara_171.jpg', 'ohhara_175.jpg', 'ohhara_186.jpg', 'ohhara_197.jpg', 'ohhara_029.jpg', 'ohhara_031.jpg', 'ohhara_033.jpg', 'yamaoka_053.jpg', 'ohhara_034.jpg', 'yamaoka_054.jpg', 'ohhara_035.jpg', 'ohhara_036.jpg', 'ohhara_037.jpg', 'ohhara_038.jpg', 'ohhara_040.jpg', 'ohhara_041.jpg', 'yamaoka_055.jpg', 'yamaoka_056.jpg', 'yamaoka_057.jpg', 'ohhara_044.jpg', 'ohhara_045.jpg', 'yamaoka_058.jpg', 'yamaoka_059.jpg', 'yamaoka_060.jpg', 'ohhara_046.jpg', 'ohhara_047.jpg', 'tanimura_121.jpg', 'tanimura_124.jpg', 'kaibara_022.jpg', 'kaibara_023.jpg', 'tanimura_126.jpg', 'tanimura_127.jpg', 'yamaoka_061.jpg', 'ohhara_049.jpg', 'ohhara_050.jpg', 'ohhara_054.jpg', 'yamaoka_063.jpg', 'tomii_087.jpg', 'ohhara_055.jpg', 'ohhara_056.jpg', 'kaibara_024.jpg', 'kyogoku_067.jpg', 'yamaoka_064.jpg', 'ohhara_057.jpg', 'kaibara_025.jpg', 'yamaoka_065.jpg', 'kaibara_026.jpg', 'kaibara_027.jpg', 'kaibara_029.jpg', 'kaibara_030.jpg', 'kaibara_031.jpg', 'kaibara_032.jpg', 'kaibara_033.jpg', 'kaibara_034.jpg', 'kaibara_035.jpg', 'kaibara_036.jpg', 'yamaoka_067.jpg', 'kaibara_037.jpg', 'kaibara_038.jpg', 'kaibara_040.jpg', 'ohhara_059.jpg', 'kaibara_041.jpg', 'yamaoka_068.jpg', 'kyogoku_073.jpg', 'kyogoku_074.jpg', 'yamaoka_069.jpg', 'ohhara_060.jpg', 'ohhara_061.jpg', 'yamaoka_070.jpg', 'yamaoka_071.jpg', 'yamaoka_072.jpg', 'yamaoka_073.jpg', 'yamaoka_075.jpg', 'yamaoka_076.jpg', 'tomii_090.jpg', 'yamaoka_077.jpg', 'yamaoka_078.jpg', 'yamaoka_079.jpg', 'kaibara_042.jpg', 'kaibara_043.jpg', 'yamaoka_080.jpg', 'yamaoka_083.jpg', 'ohhara_062.jpg', 'ohhara_063.jpg', 'kaibara_044.jpg', 'yamaoka_084.jpg', 'yamaoka_085.jpg', 'kaibara_045.jpg', 'kaibara_046.jpg', 'ohhara_065.jpg', 'tanimura_131.jpg', 'ohhara_066.jpg', 'yamaoka_086.jpg', 'ohhara_067.jpg', 'tanimura_132.jpg', 'kaibara_047.jpg', 'yamaoka_087.jpg', 'kaibara_048.jpg', 'kaibara_049.jpg', 'kaibara_050.jpg', 'kaibara_051.jpg', 'kaibara_052.jpg', 'kaibara_053.jpg', 'yamaoka_089.jpg', 'kaibara_054.jpg', 'kaibara_055.jpg', 'kaibara_056.jpg', 'kyogoku_078.jpg', 'kaibara_057.jpg', 'kaibara_058.jpg', 'kaibara_059.jpg', 'kaibara_060.jpg', 'yamaoka_090.jpg', 'kaibara_061.jpg', 'kaibara_062.jpg', 'kyogoku_084.jpg', 'kaibara_063.jpg', 'kaibara_064.jpg', 'kaibara_065.jpg', 'kaibara_066.jpg', 'ohhara_071.jpg', 'ohhara_072.jpg', 'yamaoka_091.jpg', 'ohhara_073.jpg', 'tomii_092.jpg', 'yamaoka_092.jpg', 'yamaoka_093.jpg', 'kyogoku_085.jpg', 'kaibara_067.jpg', 'kyogoku_086.jpg', 'kaibara_068.jpg', 'kaibara_069.jpg', 'yamaoka_094.jpg', 'yamaoka_095.jpg', 'kaibara_028.jpg', 'kaibara_039.jpg', 'kyogoku_075.jpg', 'kyogoku_066.jpg', 'kyogoku_079.jpg', 'kyogoku_083.jpg', 'kyogoku_077.jpg', 'kyogoku_070.jpg', 'kyogoku_081.jpg', 'kyogoku_069.jpg', 'kyogoku_063.jpg', 'kyogoku_065.jpg', 'kyogoku_087.jpg', 'kyogoku_072.jpg', 'kyogoku_064.jpg', 'kyogoku_080.jpg', 'kyogoku_068.jpg', 'kyogoku_076.jpg', 'kyogoku_088.jpg', 'yamaoka_051.jpg', 'yamaoka_052.jpg', 'yamaoka_049.jpg', 'yamaoka_050.jpg', 'yamaoka_082.jpg', 'yamaoka_081.jpg', 'ohhara_170.jpg', 'ohhara_166.jpg', 'ohhara_172.jpg', 'ohhara_168.jpg', 'ohhara_028.jpg', 'ohhara_068.jpg', 'ohhara_069.jpg', 'ohhara_009.jpg', 'ohhara_051.jpg', 'ohhara_025.jpg', 'ohhara_020.jpg', 'ohhara_048.jpg', 'ohhara_039.jpg', 'ohhara_043.jpg', 'ohhara_027.jpg', 'ohhara_070.jpg', 'ohhara_058.jpg', 'ohhara_030.jpg', 'ohhara_026.jpg', 'ohhara_052.jpg', 'tanimura_129.jpg', 'tanimura_128.jpg', 'tanimura_125.jpg', 'tanimura_136.jpg', 'tanimura_133.jpg', 'tanimura_130.jpg', 'tomii_088.jpg', 'tomii_089.jpg', 'tomii_091.jpg', 'yamaoka_097.jpg', 'tomii_093.jpg', 'tomii_094.jpg', 'ohhara_074.jpg', 'ohhara_076.jpg', 'yamaoka_098.jpg', 'yamaoka_099.jpg', 'tanimura_137.jpg', 'ohhara_077.jpg', 'yamaoka_100.jpg', 'ohhara_083.jpg', 'ohhara_086.jpg', 'ohhara_087.jpg', 'ohhara_088.jpg', 'yamaoka_101.jpg', 'ohhara_078.jpg', 'ohhara_080.jpg', 'ohhara_082.jpg', 'ohhara_081.jpg', 'ohhara_079.jpg', 'ohhara_084.jpg', 'tomii_095.jpg', 'tomii_096.jpg', 'kaibara_070.jpg', 'kaibara_071.jpg', 'kaibara_072.jpg', 'kaibara_073.jpg', 'kaibara_074.jpg', 'kaibara_075.jpg', 'kaibara_076.jpg', 'kyogoku_092.jpg', 'kyogoku_094.jpg', 'yamaoka_102.jpg', 'kaibara_077.jpg', 'kaibara_078.jpg', 'kyogoku_097.jpg', 'yamaoka_103.jpg', 'kaibara_079.jpg', 'yamaoka_104.jpg', 'yamaoka_105.jpg', 'tomii_097.jpg', 'tomii_098.jpg', 'tomii_099.jpg', 'tomii_100.jpg', 'tomii_101.jpg', 'yamaoka_107.jpg', 'tomii_106.jpg', 'yamaoka_108.jpg', 'yamaoka_109.jpg', 'yamaoka_110.jpg', 'tomii_110.jpg', 'yamaoka_111.jpg', 'yamaoka_112.jpg', 'tanimura_138.jpg', 'tanimura_139.jpg', 'tanimura_140.jpg', 'tanimura_141.jpg', 'yamaoka_113.jpg', 'kaibara_080.jpg', 'kaibara_081.jpg', 'kaibara_082.jpg', 'kaibara_083.jpg', 'kaibara_084.jpg', 'kaibara_085.jpg', 'kaibara_086.jpg', 'kaibara_087.jpg', 'kaibara_088.jpg', 'kaibara_090.jpg', 'yamaoka_114.jpg', 'kaibara_091.jpg', 'kaibara_092.jpg', 'kaibara_093.jpg', 'kyogoku_100.jpg', 'kyogoku_101.jpg', 'kaibara_094.jpg', 'yamaoka_115.jpg', 'tanimura_143.jpg', 'tanimura_144.jpg', 'tomii_112.jpg', 'tanimura_146.jpg', 'tomii_113.jpg', 'ohhara_090.jpg', 'ohhara_091.jpg', 'kaibara_095.jpg', 'kaibara_096.jpg', 'tomii_115.jpg', 'tomii_117.jpg', 'tomii_118.jpg', 'tomii_120.jpg', 'tomii_121.jpg', 'ohhara_098.jpg', 'ohhara_099.jpg', 'ohhara_100.jpg', 'ohhara_101.jpg', 'ohhara_102.jpg', 'ohhara_103.jpg', 'ohhara_104.jpg', 'ohhara_106.jpg', 'ohhara_109.jpg', 'ohhara_112.jpg', 'ohhara_113.jpg', 'ohhara_114.jpg', 'tomii_122.jpg', 'tomii_123.jpg', 'ohhara_115.jpg', 'tanimura_155.jpg', 'ohhara_116.jpg', 'ohhara_173.jpg', 'yamaoka_119.jpg', 'yamaoka_120.jpg', 'kaibara_089.jpg', 'kyogoku_096.jpg', 'kyogoku_098.jpg', 'kyogoku_091.jpg', 'kyogoku_110.jpg', 'kyogoku_102.jpg', 'kyogoku_109.jpg', 'kyogoku_106.jpg', 'kyogoku_089.jpg', 'kyogoku_105.jpg', 'kyogoku_095.jpg', 'kyogoku_103.jpg', 'kyogoku_099.jpg', 'kyogoku_107.jpg', 'kyogoku_108.jpg', 'kyogoku_111.jpg', 'kyogoku_090.jpg', 'ohhara_105.jpg', 'ohhara_111.jpg', 'ohhara_097.jpg', 'ohhara_110.jpg', 'ohhara_089.jpg', 'tanimura_154.jpg', 'tanimura_153.jpg', 'tanimura_142.jpg', 'tanimura_151.jpg', 'tanimura_150.jpg', 'tomii_116.jpg', 'tomii_109.jpg', 'tomii_103.jpg', 'tomii_107.jpg', 'tomii_102.jpg', 'tomii_108.jpg', 'yamaoka_117.jpg', 'ohhara_093.jpg', 'ohhara_095.jpg', 'ohhara_092.jpg', 'ohhara_094.jpg', 'tanimura_148.jpg', 'tanimura_152.jpg', 'tanimura_149.jpg', 'tomii_111.jpg', 'tomii_114.jpg', 'tomii_119.jpg', 'tomii_105.jpg', 'tomii_104.jpg', 'tanimura_001.jpg', 'yamaoka_121.jpg', 'yamaoka_122.jpg', 'yamaoka_123.jpg', 'tomii_124.jpg', 'tomii_125.jpg', 'tomii_126.jpg', 'tanimura_002.jpg', 'tanimura_004.jpg', 'tanimura_005.jpg', 'tomii_127.jpg', 'tomii_128.jpg', 'yamaoka_124.jpg', 'yamaoka_125.jpg', 'yamaoka_126.jpg', 'yamaoka_127.jpg', 'tomii_131.jpg', 'tomii_132.jpg', 'tomii_133.jpg', 'yamaoka_128.jpg', 'tomii_134.jpg', 'tanimura_008.jpg', 'tomii_135.jpg', 'tomii_136.jpg', 'tomii_137.jpg', 'tomii_138.jpg', 'tomii_139.jpg', 'yamaoka_130.jpg', 'yamaoka_131.jpg', 'yamaoka_132.jpg', 'yamaoka_134.jpg', 'yamaoka_135.jpg', 'ohhara_174.jpg', 'ohhara_176.jpg', 'tanimura_006.jpg', 'tanimura_007.jpg', 'tomii_130.jpg', 'tomii_129.jpg', 'ohhara_108.jpg', 'ohhara_127.jpg', 'ohhara_138.jpg', 'ohhara_148.jpg', 'ohhara_158.jpg', 'tanimura_123.jpg', 'ohhara_169.jpg', 'ohhara_180.jpg', 'ohhara_190.jpg', 'ohhara_200.jpg', 'ohhara_021.jpg', 'ohhara_042.jpg', 'ohhara_053.jpg', 'ohhara_096.jpg', 'tanimura_156.jpg', 'ohhara_122.jpg', 'ohhara_123.jpg', 'tanimura_063.jpg', 'kyogoku_001.jpg', 'kyogoku_038.jpg', 'ohhara_126.jpg', 'ohhara_128.jpg', 'kyogoku_049.jpg', 'kyogoku_060.jpg', 'kyogoku_093.jpg', 'kyogoku_104.jpg', 'kyogoku_115.jpg', 'kyogoku_002.jpg', 'kyogoku_013.jpg', 'kyogoku_024.jpg', 'kyogoku_031.jpg', 'kyogoku_032.jpg', 'kyogoku_033.jpg', 'kyogoku_034.jpg', 'kyogoku_035.jpg', 'kyogoku_036.jpg', 'kyogoku_037.jpg', 'kyogoku_039.jpg', 'kyogoku_040.jpg', 'kyogoku_041.jpg', 'kyogoku_042.jpg', 'kyogoku_043.jpg', 'kyogoku_044.jpg', 'kyogoku_045.jpg', 'kyogoku_046.jpg', 'kyogoku_047.jpg', 'kyogoku_048.jpg', 'kyogoku_050.jpg', 'kyogoku_051.jpg', 'kyogoku_052.jpg', 'kyogoku_053.jpg', 'kyogoku_054.jpg', 'kyogoku_055.jpg', 'kyogoku_056.jpg', 'kyogoku_057.jpg', 'kyogoku_058.jpg', 'kyogoku_059.jpg', 'kyogoku_061.jpg', 'ohhara_129.jpg', 'tanimura_072.jpg', 'tanimura_073.jpg', 'ohhara_135.jpg', 'ohhara_143.jpg', 'ohhara_144.jpg', 'tanimura_080.jpg', 'tanimura_081.jpg', 'tanimura_082.jpg', 'tanimura_083.jpg', 'tanimura_084.jpg', 'tanimura_085.jpg', 'tanimura_086.jpg', 'tanimura_087.jpg', 'tanimura_088.jpg', 'tanimura_089.jpg', 'tanimura_091.jpg', 'ohhara_145.jpg', 'ohhara_146.jpg', 'ohhara_147.jpg', 'ohhara_149.jpg', 'ohhara_150.jpg', 'tanimura_092.jpg', 'ohhara_151.jpg', 'tanimura_097.jpg', 'tanimura_022.jpg', 'tanimura_134.jpg', 'tanimura_070.jpg', 'tanimura_101.jpg', 'tanimura_095.jpg', 'tanimura_069.jpg', 'tanimura_090.jpg', 'tanimura_071.jpg', 'tanimura_065.jpg', 'tanimura_096.jpg', 'tanimura_145.jpg', 'tanimura_066.jpg', 'tanimura_011.jpg', 'tanimura_079.jpg', 'tanimura_033.jpg', 'tanimura_068.jpg', 'tanimura_076.jpg', 'tanimura_044.jpg', 'tanimura_093.jpg', 'tanimura_075.jpg', 'tanimura_078.jpg', 'tanimura_094.jpg', 'tanimura_112.jpg', 'tanimura_067.jpg', 'tanimura_077.jpg', 'tanimura_055.jpg', 'tanimura_064.jpg', 'tanimura_074.jpg', 'ohhara_133.jpg', 'ohhara_107.jpg', 'ohhara_140.jpg', 'ohhara_156.jpg', 'ohhara_134.jpg', 'ohhara_124.jpg', 'ohhara_085.jpg', 'ohhara_064.jpg', 'ohhara_117.jpg', 'ohhara_119.jpg', 'ohhara_132.jpg', 'ohhara_155.jpg', 'ohhara_130.jpg', 'ohhara_121.jpg', 'ohhara_010.jpg', 'ohhara_153.jpg', 'ohhara_032.jpg', 'ohhara_136.jpg', 'ohhara_125.jpg', 'ohhara_131.jpg', 'ohhara_152.jpg', 'ohhara_120.jpg', 'ohhara_075.jpg', 'ohhara_139.jpg', 'ohhara_118.jpg', 'ohhara_142.jpg', 'ohhara_154.jpg', 'ohhara_141.jpg', 'ohhara_137.jpg', 'ohhara_159.jpg', 'ohhara_157.jpg', 'kyogoku_082.jpg', 'kyogoku_071.jpg', 'ohhara_160.jpg', 'ohhara_161.jpg', 'ohhara_162.jpg', 'tanimura_103.jpg', 'tanimura_104.jpg', 'tanimura_105.jpg', 'tanimura_106.jpg', 'tanimura_102.jpg', 'tanimura_098.jpg', 'tanimura_099.jpg', 'tanimura_100.jpg', 'kyogoku_062.jpg', 'yamaoka_149.jpg', 'kaibara_099.jpg', 'yamaoka_150.jpg', 'yamaoka_153.jpg', 'kaibara_100.jpg', 'kaibara_102.jpg', 'kaibara_104.jpg', 'kaibara_105.jpg', 'kaibara_106.jpg', 'kaibara_107.jpg', 'kaibara_108.jpg', 'kaibara_109.jpg', 'kaibara_110.jpg', 'yamaoka_155.jpg', 'kaibara_111.jpg', 'kaibara_112.jpg', 'yamaoka_156.jpg', 'yamaoka_158.jpg', 'tanimura_040.jpg', 'tanimura_041.jpg', 'tomii_152.jpg', 'tomii_153.jpg', 'tanimura_045.jpg', 'yamaoka_159.jpg', 'kaibara_113.jpg', 'yamaoka_160.jpg', 'yamaoka_161.jpg', 'yamaoka_162.jpg', 'yamaoka_163.jpg', 'kaibara_115.jpg', 'kaibara_116.jpg', 'yamaoka_165.jpg', 'kaibara_118.jpg', 'yamaoka_166.jpg', 'kaibara_119.jpg', 'yamaoka_167.jpg', 'yamaoka_168.jpg', 'kyogoku_120.jpg', 'kaibara_120.jpg', 'kyogoku_121.jpg', 'kyogoku_122.jpg', 'kaibara_121.jpg', 'kaibara_122.jpg', 'kyogoku_123.jpg', 'kaibara_123.jpg', 'kyogoku_124.jpg', 'kaibara_124.jpg', 'yamaoka_169.jpg', 'kaibara_125.jpg', 'kyogoku_125.jpg', 'kaibara_126.jpg', 'kaibara_127.jpg', 'kaibara_128.jpg', 'kyogoku_003.jpg', 'tanimura_047.jpg', 'kyogoku_004.jpg', 'tanimura_048.jpg', 'kaibara_129.jpg', 'kaibara_130.jpg', 'kaibara_131.jpg', 'kaibara_132.jpg', 'kaibara_133.jpg', 'kaibara_134.jpg', 'kaibara_135.jpg', 'kaibara_136.jpg', 'tanimura_049.jpg', 'kyogoku_006.jpg', 'kyogoku_007.jpg', 'kyogoku_008.jpg', 'kyogoku_009.jpg', 'kyogoku_010.jpg', 'kyogoku_011.jpg', 'kaibara_137.jpg', 'kaibara_138.jpg', 'kaibara_139.jpg', 'kyogoku_012.jpg', 'kyogoku_014.jpg', 'kyogoku_015.jpg', 'kyogoku_016.jpg', 'kyogoku_017.jpg', 'kaibara_140.jpg']\n",
            "['kurita_145.jpg', 'kurita_146.jpg', 'kurita_147.jpg', 'kurita_148.jpg', 'kurita_149.jpg', 'kurita_150.jpg', 'kurita_151.jpg', 'kurita_152.jpg', 'kurita_153.jpg', 'kurita_154.jpg', 'kurita_155.jpg', 'kurita_157.jpg', 'kurita_158.jpg', 'kurita_160.jpg', 'kurita_162.jpg', 'kurita_163.jpg', 'kurita_164.jpg', 'kurita_165.jpg', 'kurita_166.jpg', 'kurita_167.jpg', 'kurita_168.jpg', 'kurita_169.jpg', 'kurita_170.jpg', 'kurita_171.jpg', 'kurita_172.jpg', 'kurita_173.jpg', 'kurita_174.jpg', 'kurita_126.jpg', 'kurita_127.jpg', 'kurita_125.jpg', 'kurita_124.jpg', 'kurita_129.jpg', 'kurita_128.jpg', 'kurita_133.jpg', 'kurita_134.jpg', 'kurita_131.jpg', 'kurita_132.jpg', 'kurita_130.jpg', 'kurita_144.jpg', 'kurita_143.jpg', 'kurita_141.jpg', 'kurita_137.jpg', 'kurita_142.jpg', 'kurita_136.jpg', 'kurita_138.jpg', 'kurita_135.jpg', 'kurita_159.jpg', 'kurita_140.jpg', 'kurita_176.jpg', 'kurita_200.jpg', 'kurita_004.jpg', 'kurita_062.jpg', 'kurita_067.jpg', 'kurita_097.jpg', 'kurita_118.jpg', 'kurita_139.jpg', 'kurita_156.jpg', 'kurita_175.jpg', 'kurita_177.jpg', 'kurita_178.jpg', 'kurita_179.jpg', 'kurita_191.jpg', 'kurita_193.jpg', 'kurita_194.jpg', 'kurita_114.jpg', 'kurita_087.jpg', 'kurita_103.jpg', 'kurita_056.jpg', 'kurita_049.jpg', 'kurita_183.jpg', 'kurita_083.jpg', 'kurita_181.jpg', 'kurita_108.jpg', 'kurita_017.jpg', 'kurita_180.jpg', 'kurita_072.jpg', 'kurita_161.jpg', 'kurita_034.jpg', 'kurita_092.jpg', 'kurita_031.jpg', 'kurita_040.jpg', 'kurita_182.jpg', 'kurita_189.jpg', 'kurita_184.jpg', 'kurita_192.jpg', 'kurita_186.jpg', 'kurita_187.jpg', 'kurita_190.jpg', 'kurita_188.jpg', 'kurita_185.jpg', 'kurita_195.jpg', 'kurita_196.jpg', 'kurita_197.jpg', 'kurita_198.jpg', 'kurita_199.jpg', 'kurita_001.jpg', 'kurita_002.jpg', 'kurita_003.jpg', 'kurita_005.jpg', 'kurita_006.jpg', 'kurita_007.jpg', 'kurita_010.jpg', 'kurita_011.jpg', 'kurita_012.jpg', 'kurita_009.jpg', 'kurita_008.jpg', 'kurita_014.jpg', 'kurita_015.jpg', 'kurita_021.jpg', 'kurita_022.jpg', 'kurita_023.jpg', 'kurita_024.jpg', 'kurita_025.jpg', 'kurita_026.jpg', 'kurita_028.jpg', 'kurita_029.jpg', 'kurita_030.jpg', 'kurita_035.jpg', 'kurita_036.jpg', 'kurita_037.jpg', 'kurita_041.jpg', 'kurita_042.jpg', 'kurita_043.jpg', 'kurita_044.jpg', 'kurita_046.jpg', 'kurita_047.jpg', 'kurita_048.jpg', 'kurita_050.jpg', 'kurita_051.jpg', 'kurita_052.jpg', 'kurita_053.jpg', 'kurita_054.jpg', 'kurita_055.jpg', 'kurita_027.jpg', 'kurita_013.jpg', 'kurita_016.jpg', 'kurita_020.jpg', 'kurita_019.jpg', 'kurita_033.jpg', 'kurita_032.jpg', 'kurita_039.jpg', 'kurita_038.jpg', 'kurita_045.jpg', 'kurita_018.jpg', 'kurita_057.jpg', 'kurita_059.jpg', 'kurita_060.jpg', 'kurita_061.jpg', 'kurita_063.jpg', 'kurita_064.jpg', 'kurita_065.jpg', 'kurita_066.jpg', 'kurita_069.jpg', 'kurita_070.jpg', 'kurita_073.jpg', 'kurita_074.jpg', 'kurita_075.jpg', 'kurita_068.jpg', 'kurita_058.jpg', 'kurita_071.jpg', 'kurita_076.jpg', 'kurita_077.jpg', 'kurita_078.jpg', 'kurita_079.jpg', 'kurita_080.jpg', 'kurita_081.jpg', 'kurita_082.jpg', 'kurita_084.jpg', 'kurita_090.jpg', 'kurita_093.jpg', 'kurita_094.jpg', 'kurita_095.jpg', 'kurita_098.jpg', 'kurita_099.jpg', 'kurita_100.jpg', 'kurita_101.jpg', 'kurita_102.jpg', 'kurita_091.jpg', 'kurita_086.jpg', 'kurita_085.jpg', 'kurita_088.jpg', 'kurita_104.jpg', 'kurita_105.jpg', 'kurita_089.jpg', 'kurita_096.jpg', 'kurita_106.jpg', 'kurita_107.jpg', 'kurita_109.jpg', 'kurita_110.jpg', 'kurita_111.jpg', 'kurita_112.jpg', 'kurita_115.jpg', 'kurita_116.jpg', 'kurita_117.jpg', 'kurita_119.jpg', 'kurita_120.jpg', 'kurita_121.jpg', 'kurita_122.jpg', 'kurita_123.jpg', 'kurita_113.jpg']\n"
          ],
          "name": "stdout"
        }
      ]
    },
    {
      "cell_type": "code",
      "metadata": {
        "id": "2bx33_7QUNE7",
        "colab": {
          "base_uri": "https://localhost:8080/"
        },
        "outputId": "893c9d75-fd88-4b90-bdfc-a77bfc44e73f"
      },
      "source": [
        "data = np.array(data, dtype=np.float64)\r\n",
        "label = np.array(label, dtype=np.float64)\r\n",
        "\r\n",
        "train_data, test_data, train_label, test_label = train_test_split(data, label, random_state=1, stratify=label, test_size=0.2)\r\n",
        "\r\n",
        "train_data = train_data.reshape((len(train_data)), x, y, 3)\r\n",
        "test_data = test_data.reshape((len(test_data)), x, y, 3)\r\n",
        "\r\n",
        "train_data /= 255\r\n",
        "test_data /= 255\r\n",
        "\r\n",
        "train_label = to_categorical(train_label, num_classes=2)\r\n",
        "test_label = to_categorical(test_label, num_classes=2)\r\n",
        "print(train_data.shape)\r\n",
        "print(train_label.shape)\r\n",
        "print(test_data.shape)\r\n",
        "print(test_label.shape)"
      ],
      "execution_count": null,
      "outputs": [
        {
          "output_type": "stream",
          "text": [
            "(1024, 160, 90, 3)\n",
            "(1024, 2)\n",
            "(257, 160, 90, 3)\n",
            "(257, 2)\n"
          ],
          "name": "stdout"
        }
      ]
    },
    {
      "cell_type": "code",
      "metadata": {
        "id": "Qj9g9iY-y06c",
        "colab": {
          "base_uri": "https://localhost:8080/"
        },
        "outputId": "6be2399d-6f76-4e39-b0d0-f7b938a8f56e"
      },
      "source": [
        "model = Xception(include_top=False, weights=\"imagenet\", input_shape=None)\r\n",
        "x = model.output\r\n",
        "x = GlobalAveragePooling2D()(x)\r\n",
        "x = Dense(2048, activation=\"relu\")(x)\r\n",
        "output = Dense(2, activation=\"softmax\")(x)\r\n",
        "model_x = Model(inputs=model.input, outputs=output)\r\n",
        "print(\"{}層\".format(len(model_x.layers)))\r\n",
        "for layer in model_x.layers[:64]:\r\n",
        "  layer.trainable = False\r\n",
        "  if layer.name.startswith(\"batch_normalization\"):\r\n",
        "    layer.trainable = True\r\n",
        "  if layer.name.endswith(\"bn\"):\r\n",
        "    layer.trainable = True\r\n",
        "for layer in model_x.layers[64:]:\r\n",
        "  layer.trainable = True\r\n",
        "model_x.compile(optimizer=Adamax(), loss=\"categorical_crossentropy\", metrics=[\"accuracy\"])\r\n",
        "model_x.summary()"
      ],
      "execution_count": null,
      "outputs": [
        {
          "output_type": "stream",
          "text": [
            "Downloading data from https://storage.googleapis.com/tensorflow/keras-applications/xception/xception_weights_tf_dim_ordering_tf_kernels_notop.h5\n",
            "83689472/83683744 [==============================] - 1s 0us/step\n",
            "135層\n",
            "Model: \"model\"\n",
            "__________________________________________________________________________________________________\n",
            "Layer (type)                    Output Shape         Param #     Connected to                     \n",
            "==================================================================================================\n",
            "input_1 (InputLayer)            [(None, None, None,  0                                            \n",
            "__________________________________________________________________________________________________\n",
            "block1_conv1 (Conv2D)           (None, None, None, 3 864         input_1[0][0]                    \n",
            "__________________________________________________________________________________________________\n",
            "block1_conv1_bn (BatchNormaliza (None, None, None, 3 128         block1_conv1[0][0]               \n",
            "__________________________________________________________________________________________________\n",
            "block1_conv1_act (Activation)   (None, None, None, 3 0           block1_conv1_bn[0][0]            \n",
            "__________________________________________________________________________________________________\n",
            "block1_conv2 (Conv2D)           (None, None, None, 6 18432       block1_conv1_act[0][0]           \n",
            "__________________________________________________________________________________________________\n",
            "block1_conv2_bn (BatchNormaliza (None, None, None, 6 256         block1_conv2[0][0]               \n",
            "__________________________________________________________________________________________________\n",
            "block1_conv2_act (Activation)   (None, None, None, 6 0           block1_conv2_bn[0][0]            \n",
            "__________________________________________________________________________________________________\n",
            "block2_sepconv1 (SeparableConv2 (None, None, None, 1 8768        block1_conv2_act[0][0]           \n",
            "__________________________________________________________________________________________________\n",
            "block2_sepconv1_bn (BatchNormal (None, None, None, 1 512         block2_sepconv1[0][0]            \n",
            "__________________________________________________________________________________________________\n",
            "block2_sepconv2_act (Activation (None, None, None, 1 0           block2_sepconv1_bn[0][0]         \n",
            "__________________________________________________________________________________________________\n",
            "block2_sepconv2 (SeparableConv2 (None, None, None, 1 17536       block2_sepconv2_act[0][0]        \n",
            "__________________________________________________________________________________________________\n",
            "block2_sepconv2_bn (BatchNormal (None, None, None, 1 512         block2_sepconv2[0][0]            \n",
            "__________________________________________________________________________________________________\n",
            "conv2d (Conv2D)                 (None, None, None, 1 8192        block1_conv2_act[0][0]           \n",
            "__________________________________________________________________________________________________\n",
            "block2_pool (MaxPooling2D)      (None, None, None, 1 0           block2_sepconv2_bn[0][0]         \n",
            "__________________________________________________________________________________________________\n",
            "batch_normalization (BatchNorma (None, None, None, 1 512         conv2d[0][0]                     \n",
            "__________________________________________________________________________________________________\n",
            "add (Add)                       (None, None, None, 1 0           block2_pool[0][0]                \n",
            "                                                                 batch_normalization[0][0]        \n",
            "__________________________________________________________________________________________________\n",
            "block3_sepconv1_act (Activation (None, None, None, 1 0           add[0][0]                        \n",
            "__________________________________________________________________________________________________\n",
            "block3_sepconv1 (SeparableConv2 (None, None, None, 2 33920       block3_sepconv1_act[0][0]        \n",
            "__________________________________________________________________________________________________\n",
            "block3_sepconv1_bn (BatchNormal (None, None, None, 2 1024        block3_sepconv1[0][0]            \n",
            "__________________________________________________________________________________________________\n",
            "block3_sepconv2_act (Activation (None, None, None, 2 0           block3_sepconv1_bn[0][0]         \n",
            "__________________________________________________________________________________________________\n",
            "block3_sepconv2 (SeparableConv2 (None, None, None, 2 67840       block3_sepconv2_act[0][0]        \n",
            "__________________________________________________________________________________________________\n",
            "block3_sepconv2_bn (BatchNormal (None, None, None, 2 1024        block3_sepconv2[0][0]            \n",
            "__________________________________________________________________________________________________\n",
            "conv2d_1 (Conv2D)               (None, None, None, 2 32768       add[0][0]                        \n",
            "__________________________________________________________________________________________________\n",
            "block3_pool (MaxPooling2D)      (None, None, None, 2 0           block3_sepconv2_bn[0][0]         \n",
            "__________________________________________________________________________________________________\n",
            "batch_normalization_1 (BatchNor (None, None, None, 2 1024        conv2d_1[0][0]                   \n",
            "__________________________________________________________________________________________________\n",
            "add_1 (Add)                     (None, None, None, 2 0           block3_pool[0][0]                \n",
            "                                                                 batch_normalization_1[0][0]      \n",
            "__________________________________________________________________________________________________\n",
            "block4_sepconv1_act (Activation (None, None, None, 2 0           add_1[0][0]                      \n",
            "__________________________________________________________________________________________________\n",
            "block4_sepconv1 (SeparableConv2 (None, None, None, 7 188672      block4_sepconv1_act[0][0]        \n",
            "__________________________________________________________________________________________________\n",
            "block4_sepconv1_bn (BatchNormal (None, None, None, 7 2912        block4_sepconv1[0][0]            \n",
            "__________________________________________________________________________________________________\n",
            "block4_sepconv2_act (Activation (None, None, None, 7 0           block4_sepconv1_bn[0][0]         \n",
            "__________________________________________________________________________________________________\n",
            "block4_sepconv2 (SeparableConv2 (None, None, None, 7 536536      block4_sepconv2_act[0][0]        \n",
            "__________________________________________________________________________________________________\n",
            "block4_sepconv2_bn (BatchNormal (None, None, None, 7 2912        block4_sepconv2[0][0]            \n",
            "__________________________________________________________________________________________________\n",
            "conv2d_2 (Conv2D)               (None, None, None, 7 186368      add_1[0][0]                      \n",
            "__________________________________________________________________________________________________\n",
            "block4_pool (MaxPooling2D)      (None, None, None, 7 0           block4_sepconv2_bn[0][0]         \n",
            "__________________________________________________________________________________________________\n",
            "batch_normalization_2 (BatchNor (None, None, None, 7 2912        conv2d_2[0][0]                   \n",
            "__________________________________________________________________________________________________\n",
            "add_2 (Add)                     (None, None, None, 7 0           block4_pool[0][0]                \n",
            "                                                                 batch_normalization_2[0][0]      \n",
            "__________________________________________________________________________________________________\n",
            "block5_sepconv1_act (Activation (None, None, None, 7 0           add_2[0][0]                      \n",
            "__________________________________________________________________________________________________\n",
            "block5_sepconv1 (SeparableConv2 (None, None, None, 7 536536      block5_sepconv1_act[0][0]        \n",
            "__________________________________________________________________________________________________\n",
            "block5_sepconv1_bn (BatchNormal (None, None, None, 7 2912        block5_sepconv1[0][0]            \n",
            "__________________________________________________________________________________________________\n",
            "block5_sepconv2_act (Activation (None, None, None, 7 0           block5_sepconv1_bn[0][0]         \n",
            "__________________________________________________________________________________________________\n",
            "block5_sepconv2 (SeparableConv2 (None, None, None, 7 536536      block5_sepconv2_act[0][0]        \n",
            "__________________________________________________________________________________________________\n",
            "block5_sepconv2_bn (BatchNormal (None, None, None, 7 2912        block5_sepconv2[0][0]            \n",
            "__________________________________________________________________________________________________\n",
            "block5_sepconv3_act (Activation (None, None, None, 7 0           block5_sepconv2_bn[0][0]         \n",
            "__________________________________________________________________________________________________\n",
            "block5_sepconv3 (SeparableConv2 (None, None, None, 7 536536      block5_sepconv3_act[0][0]        \n",
            "__________________________________________________________________________________________________\n",
            "block5_sepconv3_bn (BatchNormal (None, None, None, 7 2912        block5_sepconv3[0][0]            \n",
            "__________________________________________________________________________________________________\n",
            "add_3 (Add)                     (None, None, None, 7 0           block5_sepconv3_bn[0][0]         \n",
            "                                                                 add_2[0][0]                      \n",
            "__________________________________________________________________________________________________\n",
            "block6_sepconv1_act (Activation (None, None, None, 7 0           add_3[0][0]                      \n",
            "__________________________________________________________________________________________________\n",
            "block6_sepconv1 (SeparableConv2 (None, None, None, 7 536536      block6_sepconv1_act[0][0]        \n",
            "__________________________________________________________________________________________________\n",
            "block6_sepconv1_bn (BatchNormal (None, None, None, 7 2912        block6_sepconv1[0][0]            \n",
            "__________________________________________________________________________________________________\n",
            "block6_sepconv2_act (Activation (None, None, None, 7 0           block6_sepconv1_bn[0][0]         \n",
            "__________________________________________________________________________________________________\n",
            "block6_sepconv2 (SeparableConv2 (None, None, None, 7 536536      block6_sepconv2_act[0][0]        \n",
            "__________________________________________________________________________________________________\n",
            "block6_sepconv2_bn (BatchNormal (None, None, None, 7 2912        block6_sepconv2[0][0]            \n",
            "__________________________________________________________________________________________________\n",
            "block6_sepconv3_act (Activation (None, None, None, 7 0           block6_sepconv2_bn[0][0]         \n",
            "__________________________________________________________________________________________________\n",
            "block6_sepconv3 (SeparableConv2 (None, None, None, 7 536536      block6_sepconv3_act[0][0]        \n",
            "__________________________________________________________________________________________________\n",
            "block6_sepconv3_bn (BatchNormal (None, None, None, 7 2912        block6_sepconv3[0][0]            \n",
            "__________________________________________________________________________________________________\n",
            "add_4 (Add)                     (None, None, None, 7 0           block6_sepconv3_bn[0][0]         \n",
            "                                                                 add_3[0][0]                      \n",
            "__________________________________________________________________________________________________\n",
            "block7_sepconv1_act (Activation (None, None, None, 7 0           add_4[0][0]                      \n",
            "__________________________________________________________________________________________________\n",
            "block7_sepconv1 (SeparableConv2 (None, None, None, 7 536536      block7_sepconv1_act[0][0]        \n",
            "__________________________________________________________________________________________________\n",
            "block7_sepconv1_bn (BatchNormal (None, None, None, 7 2912        block7_sepconv1[0][0]            \n",
            "__________________________________________________________________________________________________\n",
            "block7_sepconv2_act (Activation (None, None, None, 7 0           block7_sepconv1_bn[0][0]         \n",
            "__________________________________________________________________________________________________\n",
            "block7_sepconv2 (SeparableConv2 (None, None, None, 7 536536      block7_sepconv2_act[0][0]        \n",
            "__________________________________________________________________________________________________\n",
            "block7_sepconv2_bn (BatchNormal (None, None, None, 7 2912        block7_sepconv2[0][0]            \n",
            "__________________________________________________________________________________________________\n",
            "block7_sepconv3_act (Activation (None, None, None, 7 0           block7_sepconv2_bn[0][0]         \n",
            "__________________________________________________________________________________________________\n",
            "block7_sepconv3 (SeparableConv2 (None, None, None, 7 536536      block7_sepconv3_act[0][0]        \n",
            "__________________________________________________________________________________________________\n",
            "block7_sepconv3_bn (BatchNormal (None, None, None, 7 2912        block7_sepconv3[0][0]            \n",
            "__________________________________________________________________________________________________\n",
            "add_5 (Add)                     (None, None, None, 7 0           block7_sepconv3_bn[0][0]         \n",
            "                                                                 add_4[0][0]                      \n",
            "__________________________________________________________________________________________________\n",
            "block8_sepconv1_act (Activation (None, None, None, 7 0           add_5[0][0]                      \n",
            "__________________________________________________________________________________________________\n",
            "block8_sepconv1 (SeparableConv2 (None, None, None, 7 536536      block8_sepconv1_act[0][0]        \n",
            "__________________________________________________________________________________________________\n",
            "block8_sepconv1_bn (BatchNormal (None, None, None, 7 2912        block8_sepconv1[0][0]            \n",
            "__________________________________________________________________________________________________\n",
            "block8_sepconv2_act (Activation (None, None, None, 7 0           block8_sepconv1_bn[0][0]         \n",
            "__________________________________________________________________________________________________\n",
            "block8_sepconv2 (SeparableConv2 (None, None, None, 7 536536      block8_sepconv2_act[0][0]        \n",
            "__________________________________________________________________________________________________\n",
            "block8_sepconv2_bn (BatchNormal (None, None, None, 7 2912        block8_sepconv2[0][0]            \n",
            "__________________________________________________________________________________________________\n",
            "block8_sepconv3_act (Activation (None, None, None, 7 0           block8_sepconv2_bn[0][0]         \n",
            "__________________________________________________________________________________________________\n",
            "block8_sepconv3 (SeparableConv2 (None, None, None, 7 536536      block8_sepconv3_act[0][0]        \n",
            "__________________________________________________________________________________________________\n",
            "block8_sepconv3_bn (BatchNormal (None, None, None, 7 2912        block8_sepconv3[0][0]            \n",
            "__________________________________________________________________________________________________\n",
            "add_6 (Add)                     (None, None, None, 7 0           block8_sepconv3_bn[0][0]         \n",
            "                                                                 add_5[0][0]                      \n",
            "__________________________________________________________________________________________________\n",
            "block9_sepconv1_act (Activation (None, None, None, 7 0           add_6[0][0]                      \n",
            "__________________________________________________________________________________________________\n",
            "block9_sepconv1 (SeparableConv2 (None, None, None, 7 536536      block9_sepconv1_act[0][0]        \n",
            "__________________________________________________________________________________________________\n",
            "block9_sepconv1_bn (BatchNormal (None, None, None, 7 2912        block9_sepconv1[0][0]            \n",
            "__________________________________________________________________________________________________\n",
            "block9_sepconv2_act (Activation (None, None, None, 7 0           block9_sepconv1_bn[0][0]         \n",
            "__________________________________________________________________________________________________\n",
            "block9_sepconv2 (SeparableConv2 (None, None, None, 7 536536      block9_sepconv2_act[0][0]        \n",
            "__________________________________________________________________________________________________\n",
            "block9_sepconv2_bn (BatchNormal (None, None, None, 7 2912        block9_sepconv2[0][0]            \n",
            "__________________________________________________________________________________________________\n",
            "block9_sepconv3_act (Activation (None, None, None, 7 0           block9_sepconv2_bn[0][0]         \n",
            "__________________________________________________________________________________________________\n",
            "block9_sepconv3 (SeparableConv2 (None, None, None, 7 536536      block9_sepconv3_act[0][0]        \n",
            "__________________________________________________________________________________________________\n",
            "block9_sepconv3_bn (BatchNormal (None, None, None, 7 2912        block9_sepconv3[0][0]            \n",
            "__________________________________________________________________________________________________\n",
            "add_7 (Add)                     (None, None, None, 7 0           block9_sepconv3_bn[0][0]         \n",
            "                                                                 add_6[0][0]                      \n",
            "__________________________________________________________________________________________________\n",
            "block10_sepconv1_act (Activatio (None, None, None, 7 0           add_7[0][0]                      \n",
            "__________________________________________________________________________________________________\n",
            "block10_sepconv1 (SeparableConv (None, None, None, 7 536536      block10_sepconv1_act[0][0]       \n",
            "__________________________________________________________________________________________________\n",
            "block10_sepconv1_bn (BatchNorma (None, None, None, 7 2912        block10_sepconv1[0][0]           \n",
            "__________________________________________________________________________________________________\n",
            "block10_sepconv2_act (Activatio (None, None, None, 7 0           block10_sepconv1_bn[0][0]        \n",
            "__________________________________________________________________________________________________\n",
            "block10_sepconv2 (SeparableConv (None, None, None, 7 536536      block10_sepconv2_act[0][0]       \n",
            "__________________________________________________________________________________________________\n",
            "block10_sepconv2_bn (BatchNorma (None, None, None, 7 2912        block10_sepconv2[0][0]           \n",
            "__________________________________________________________________________________________________\n",
            "block10_sepconv3_act (Activatio (None, None, None, 7 0           block10_sepconv2_bn[0][0]        \n",
            "__________________________________________________________________________________________________\n",
            "block10_sepconv3 (SeparableConv (None, None, None, 7 536536      block10_sepconv3_act[0][0]       \n",
            "__________________________________________________________________________________________________\n",
            "block10_sepconv3_bn (BatchNorma (None, None, None, 7 2912        block10_sepconv3[0][0]           \n",
            "__________________________________________________________________________________________________\n",
            "add_8 (Add)                     (None, None, None, 7 0           block10_sepconv3_bn[0][0]        \n",
            "                                                                 add_7[0][0]                      \n",
            "__________________________________________________________________________________________________\n",
            "block11_sepconv1_act (Activatio (None, None, None, 7 0           add_8[0][0]                      \n",
            "__________________________________________________________________________________________________\n",
            "block11_sepconv1 (SeparableConv (None, None, None, 7 536536      block11_sepconv1_act[0][0]       \n",
            "__________________________________________________________________________________________________\n",
            "block11_sepconv1_bn (BatchNorma (None, None, None, 7 2912        block11_sepconv1[0][0]           \n",
            "__________________________________________________________________________________________________\n",
            "block11_sepconv2_act (Activatio (None, None, None, 7 0           block11_sepconv1_bn[0][0]        \n",
            "__________________________________________________________________________________________________\n",
            "block11_sepconv2 (SeparableConv (None, None, None, 7 536536      block11_sepconv2_act[0][0]       \n",
            "__________________________________________________________________________________________________\n",
            "block11_sepconv2_bn (BatchNorma (None, None, None, 7 2912        block11_sepconv2[0][0]           \n",
            "__________________________________________________________________________________________________\n",
            "block11_sepconv3_act (Activatio (None, None, None, 7 0           block11_sepconv2_bn[0][0]        \n",
            "__________________________________________________________________________________________________\n",
            "block11_sepconv3 (SeparableConv (None, None, None, 7 536536      block11_sepconv3_act[0][0]       \n",
            "__________________________________________________________________________________________________\n",
            "block11_sepconv3_bn (BatchNorma (None, None, None, 7 2912        block11_sepconv3[0][0]           \n",
            "__________________________________________________________________________________________________\n",
            "add_9 (Add)                     (None, None, None, 7 0           block11_sepconv3_bn[0][0]        \n",
            "                                                                 add_8[0][0]                      \n",
            "__________________________________________________________________________________________________\n",
            "block12_sepconv1_act (Activatio (None, None, None, 7 0           add_9[0][0]                      \n",
            "__________________________________________________________________________________________________\n",
            "block12_sepconv1 (SeparableConv (None, None, None, 7 536536      block12_sepconv1_act[0][0]       \n",
            "__________________________________________________________________________________________________\n",
            "block12_sepconv1_bn (BatchNorma (None, None, None, 7 2912        block12_sepconv1[0][0]           \n",
            "__________________________________________________________________________________________________\n",
            "block12_sepconv2_act (Activatio (None, None, None, 7 0           block12_sepconv1_bn[0][0]        \n",
            "__________________________________________________________________________________________________\n",
            "block12_sepconv2 (SeparableConv (None, None, None, 7 536536      block12_sepconv2_act[0][0]       \n",
            "__________________________________________________________________________________________________\n",
            "block12_sepconv2_bn (BatchNorma (None, None, None, 7 2912        block12_sepconv2[0][0]           \n",
            "__________________________________________________________________________________________________\n",
            "block12_sepconv3_act (Activatio (None, None, None, 7 0           block12_sepconv2_bn[0][0]        \n",
            "__________________________________________________________________________________________________\n",
            "block12_sepconv3 (SeparableConv (None, None, None, 7 536536      block12_sepconv3_act[0][0]       \n",
            "__________________________________________________________________________________________________\n",
            "block12_sepconv3_bn (BatchNorma (None, None, None, 7 2912        block12_sepconv3[0][0]           \n",
            "__________________________________________________________________________________________________\n",
            "add_10 (Add)                    (None, None, None, 7 0           block12_sepconv3_bn[0][0]        \n",
            "                                                                 add_9[0][0]                      \n",
            "__________________________________________________________________________________________________\n",
            "block13_sepconv1_act (Activatio (None, None, None, 7 0           add_10[0][0]                     \n",
            "__________________________________________________________________________________________________\n",
            "block13_sepconv1 (SeparableConv (None, None, None, 7 536536      block13_sepconv1_act[0][0]       \n",
            "__________________________________________________________________________________________________\n",
            "block13_sepconv1_bn (BatchNorma (None, None, None, 7 2912        block13_sepconv1[0][0]           \n",
            "__________________________________________________________________________________________________\n",
            "block13_sepconv2_act (Activatio (None, None, None, 7 0           block13_sepconv1_bn[0][0]        \n",
            "__________________________________________________________________________________________________\n",
            "block13_sepconv2 (SeparableConv (None, None, None, 1 752024      block13_sepconv2_act[0][0]       \n",
            "__________________________________________________________________________________________________\n",
            "block13_sepconv2_bn (BatchNorma (None, None, None, 1 4096        block13_sepconv2[0][0]           \n",
            "__________________________________________________________________________________________________\n",
            "conv2d_3 (Conv2D)               (None, None, None, 1 745472      add_10[0][0]                     \n",
            "__________________________________________________________________________________________________\n",
            "block13_pool (MaxPooling2D)     (None, None, None, 1 0           block13_sepconv2_bn[0][0]        \n",
            "__________________________________________________________________________________________________\n",
            "batch_normalization_3 (BatchNor (None, None, None, 1 4096        conv2d_3[0][0]                   \n",
            "__________________________________________________________________________________________________\n",
            "add_11 (Add)                    (None, None, None, 1 0           block13_pool[0][0]               \n",
            "                                                                 batch_normalization_3[0][0]      \n",
            "__________________________________________________________________________________________________\n",
            "block14_sepconv1 (SeparableConv (None, None, None, 1 1582080     add_11[0][0]                     \n",
            "__________________________________________________________________________________________________\n",
            "block14_sepconv1_bn (BatchNorma (None, None, None, 1 6144        block14_sepconv1[0][0]           \n",
            "__________________________________________________________________________________________________\n",
            "block14_sepconv1_act (Activatio (None, None, None, 1 0           block14_sepconv1_bn[0][0]        \n",
            "__________________________________________________________________________________________________\n",
            "block14_sepconv2 (SeparableConv (None, None, None, 2 3159552     block14_sepconv1_act[0][0]       \n",
            "__________________________________________________________________________________________________\n",
            "block14_sepconv2_bn (BatchNorma (None, None, None, 2 8192        block14_sepconv2[0][0]           \n",
            "__________________________________________________________________________________________________\n",
            "block14_sepconv2_act (Activatio (None, None, None, 2 0           block14_sepconv2_bn[0][0]        \n",
            "__________________________________________________________________________________________________\n",
            "global_average_pooling2d (Globa (None, 2048)         0           block14_sepconv2_act[0][0]       \n",
            "__________________________________________________________________________________________________\n",
            "dense (Dense)                   (None, 2048)         4196352     global_average_pooling2d[0][0]   \n",
            "__________________________________________________________________________________________________\n",
            "dense_1 (Dense)                 (None, 2)            4098        dense[0][0]                      \n",
            "==================================================================================================\n",
            "Total params: 25,061,930\n",
            "Trainable params: 19,078,682\n",
            "Non-trainable params: 5,983,248\n",
            "__________________________________________________________________________________________________\n"
          ],
          "name": "stdout"
        }
      ]
    },
    {
      "cell_type": "code",
      "metadata": {
        "id": "6nkAmE8cQIre"
      },
      "source": [
        "data_generator = ImageDataGenerator(\r\n",
        "    featurewise_center = False,\r\n",
        "    samplewise_center = False,\r\n",
        "    featurewise_std_normalization = False,\r\n",
        "    samplewise_std_normalization = False,\r\n",
        "    zca_whitening = False,\r\n",
        "    rotation_range = 36,\r\n",
        "    width_shift_range = 0.1,\r\n",
        "    height_shift_range = 0.1,\r\n",
        "    horizontal_flip = True,\r\n",
        "    vertical_flip = False\r\n",
        ")"
      ],
      "execution_count": null,
      "outputs": []
    },
    {
      "cell_type": "code",
      "metadata": {
        "id": "cewix2StQkJ8",
        "colab": {
          "base_uri": "https://localhost:8080/"
        },
        "outputId": "17f80007-8c7b-470a-aff3-62fcff047add"
      },
      "source": [
        "early_stopping = EarlyStopping(monitor=\"val_loss\", patience=16, verbose=1)\r\n",
        "result = model_x.fit_generator(data_generator.flow(train_data, train_label, batch_size=16), epochs=256, verbose=1, validation_data=(test_data, test_label), callbacks=[early_stopping])"
      ],
      "execution_count": null,
      "outputs": [
        {
          "output_type": "stream",
          "text": [
            "/usr/local/lib/python3.7/dist-packages/tensorflow/python/keras/engine/training.py:1844: UserWarning: `Model.fit_generator` is deprecated and will be removed in a future version. Please use `Model.fit`, which supports generators.\n",
            "  warnings.warn('`Model.fit_generator` is deprecated and '\n"
          ],
          "name": "stderr"
        },
        {
          "output_type": "stream",
          "text": [
            "Epoch 1/256\n",
            "64/64 [==============================] - 43s 140ms/step - loss: 0.6141 - accuracy: 0.8189 - val_loss: 0.7678 - val_accuracy: 0.8444\n",
            "Epoch 2/256\n",
            "64/64 [==============================] - 7s 113ms/step - loss: 0.3090 - accuracy: 0.8483 - val_loss: 0.9032 - val_accuracy: 0.8521\n",
            "Epoch 3/256\n",
            "64/64 [==============================] - 7s 113ms/step - loss: 0.2159 - accuracy: 0.9250 - val_loss: 0.1875 - val_accuracy: 0.9183\n",
            "Epoch 4/256\n",
            "64/64 [==============================] - 7s 113ms/step - loss: 0.1926 - accuracy: 0.9346 - val_loss: 0.1795 - val_accuracy: 0.9339\n",
            "Epoch 5/256\n",
            "64/64 [==============================] - 7s 113ms/step - loss: 0.1656 - accuracy: 0.9421 - val_loss: 0.2800 - val_accuracy: 0.9416\n",
            "Epoch 6/256\n",
            "64/64 [==============================] - 7s 112ms/step - loss: 0.1713 - accuracy: 0.9433 - val_loss: 0.2743 - val_accuracy: 0.9494\n",
            "Epoch 7/256\n",
            "64/64 [==============================] - 7s 113ms/step - loss: 0.1103 - accuracy: 0.9568 - val_loss: 0.2046 - val_accuracy: 0.9533\n",
            "Epoch 8/256\n",
            "64/64 [==============================] - 7s 113ms/step - loss: 0.1237 - accuracy: 0.9636 - val_loss: 0.5158 - val_accuracy: 0.9611\n",
            "Epoch 9/256\n",
            "64/64 [==============================] - 7s 113ms/step - loss: 0.1097 - accuracy: 0.9535 - val_loss: 0.4039 - val_accuracy: 0.9650\n",
            "Epoch 10/256\n",
            "64/64 [==============================] - 7s 113ms/step - loss: 0.0871 - accuracy: 0.9642 - val_loss: 0.6327 - val_accuracy: 0.9533\n",
            "Epoch 11/256\n",
            "64/64 [==============================] - 7s 113ms/step - loss: 0.1087 - accuracy: 0.9709 - val_loss: 0.4265 - val_accuracy: 0.9494\n",
            "Epoch 12/256\n",
            "64/64 [==============================] - 7s 113ms/step - loss: 0.0714 - accuracy: 0.9728 - val_loss: 0.4374 - val_accuracy: 0.9689\n",
            "Epoch 13/256\n",
            "64/64 [==============================] - 7s 113ms/step - loss: 0.0626 - accuracy: 0.9779 - val_loss: 0.6287 - val_accuracy: 0.9650\n",
            "Epoch 14/256\n",
            "64/64 [==============================] - 7s 113ms/step - loss: 0.0827 - accuracy: 0.9717 - val_loss: 0.3222 - val_accuracy: 0.9572\n",
            "Epoch 15/256\n",
            "64/64 [==============================] - 7s 113ms/step - loss: 0.0861 - accuracy: 0.9653 - val_loss: 0.3908 - val_accuracy: 0.9533\n",
            "Epoch 16/256\n",
            "64/64 [==============================] - 7s 113ms/step - loss: 0.0686 - accuracy: 0.9733 - val_loss: 0.4216 - val_accuracy: 0.9767\n",
            "Epoch 17/256\n",
            "64/64 [==============================] - 7s 113ms/step - loss: 0.0499 - accuracy: 0.9802 - val_loss: 0.4177 - val_accuracy: 0.9650\n",
            "Epoch 18/256\n",
            "64/64 [==============================] - 7s 113ms/step - loss: 0.0467 - accuracy: 0.9856 - val_loss: 0.5900 - val_accuracy: 0.9650\n",
            "Epoch 19/256\n",
            "64/64 [==============================] - 7s 113ms/step - loss: 0.0365 - accuracy: 0.9910 - val_loss: 0.7707 - val_accuracy: 0.8872\n",
            "Epoch 20/256\n",
            "64/64 [==============================] - 7s 113ms/step - loss: 0.0358 - accuracy: 0.9880 - val_loss: 0.2310 - val_accuracy: 0.9767\n",
            "Epoch 00020: early stopping\n"
          ],
          "name": "stdout"
        }
      ]
    },
    {
      "cell_type": "code",
      "metadata": {
        "id": "a-Waju6XRtNT",
        "colab": {
          "base_uri": "https://localhost:8080/"
        },
        "outputId": "78e7f27e-2a5f-4d65-fed0-f043fcddd983"
      },
      "source": [
        "print(model_x.evaluate(train_data, train_label))\r\n",
        "print(model_x.evaluate(test_data, test_label))"
      ],
      "execution_count": null,
      "outputs": [
        {
          "output_type": "stream",
          "text": [
            "32/32 [==============================] - 2s 55ms/step - loss: 0.0383 - accuracy: 0.9863\n",
            "[0.03830273076891899, 0.986328125]\n",
            "9/9 [==============================] - 0s 48ms/step - loss: 0.2310 - accuracy: 0.9767\n",
            "[0.23097097873687744, 0.9766536951065063]\n"
          ],
          "name": "stdout"
        }
      ]
    },
    {
      "cell_type": "code",
      "metadata": {
        "id": "EuFuoS-IbvIk",
        "colab": {
          "base_uri": "https://localhost:8080/",
          "height": 295
        },
        "outputId": "5d77c4f3-4587-4477-eb3b-86bfebd02b9d"
      },
      "source": [
        "plt.plot(result.history[\"accuracy\"])\r\n",
        "plt.plot(result.history[\"val_accuracy\"])\r\n",
        "plt.title(\"Model accuracy\")\r\n",
        "plt.xlabel(\"Epoch\")\r\n",
        "plt.ylabel(\"Accuracy\")\r\n",
        "plt.legend([\"Train\", \"Test\"], loc=\"upper left\")\r\n",
        "plt.ylim(0.5, 1.05)\r\n",
        "plt.grid()\r\n",
        "plt.show()"
      ],
      "execution_count": null,
      "outputs": [
        {
          "output_type": "display_data",
          "data": {
            "image/png": "[encoded data removed]",
            "text/plain": [
              "<Figure size 432x288 with 1 Axes>"
            ]
          },
          "metadata": {
            "tags": [],
            "needs_background": "light"
          }
        }
      ]
    },
    {
      "cell_type": "code",
      "metadata": {
        "id": "18x3Mh-ib7Zs",
        "colab": {
          "base_uri": "https://localhost:8080/",
          "height": 295
        },
        "outputId": "b4f0f786-fbed-4564-c4eb-d5ea739d47ab"
      },
      "source": [
        "plt.plot(result.history[\"loss\"])\r\n",
        "plt.plot(result.history[\"val_loss\"])\r\n",
        "plt.title(\"Model loss\")\r\n",
        "plt.xlabel(\"Epoch\")\r\n",
        "plt.ylabel(\"Loss\")\r\n",
        "plt.legend([\"Train\", \"Test\"], loc=\"upper left\")\r\n",
        "plt.ylim(-0.05, 0.5)\r\n",
        "plt.grid()\r\n",
        "plt.show()"
      ],
      "execution_count": null,
      "outputs": [
        {
          "output_type": "display_data",
          "data": {
            "image/png": "[encoded data removed]",
            "text/plain": [
              "<Figure size 432x288 with 1 Axes>"
            ]
          },
          "metadata": {
            "tags": [],
            "needs_background": "light"
          }
        }
      ]
    },
    {
      "cell_type": "code",
      "metadata": {
        "id": "MtqokZQ5JtB6"
      },
      "source": [
        "model_x.save(\"kurita.h5\")"
      ],
      "execution_count": null,
      "outputs": []
    }
  ]
}