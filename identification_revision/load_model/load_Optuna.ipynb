{
  "nbformat": 4,
  "nbformat_minor": 0,
  "metadata": {
    "colab": {
      "name": "load_Optuna",
      "provenance": [],
      "collapsed_sections": []
    },
    "kernelspec": {
      "name": "python3",
      "display_name": "Python 3"
    }
  },
  "cells": [
    {
      "cell_type": "code",
      "metadata": {
        "id": "_YKC-j6RJVPL"
      },
      "source": [
        "from keras.models import load_model\r\n",
        "from tensorflow import keras\r\n",
        "import cv2\r\n",
        "import matplotlib.pyplot as plt\r\n",
        "import numpy as np\r\n",
        "import tensorflow as tf"
      ],
      "execution_count": null,
      "outputs": []
    },
    {
      "cell_type": "code",
      "metadata": {
        "id": "D-bXWU1olUnn"
      },
      "source": [
        "yamaoka_model = tf.keras.models.load_model(\"yamaoka.h5\")\n",
        "kurita_model = tf.keras.models.load_model(\"kurita.h5\")\n",
        "kyogoku_model = tf.keras.models.load_model(\"kyogoku.h5\")\n",
        "ohhara_model = tf.keras.models.load_model(\"ohhara.h5\")\n",
        "kaibara_model = tf.keras.models.load_model(\"kaibara.h5\")\n",
        "tomii_model = tf.keras.models.load_model(\"tomii.h5\")\n",
        "tanimura_model = tf.keras.models.load_model(\"tanimura.h5\")"
      ],
      "execution_count": null,
      "outputs": []
    },
    {
      "cell_type": "code",
      "metadata": {
        "id": "-EzQajeEo898"
      },
      "source": [
        "yamaoka_predict = [\"山岡士郎\", \"その他\"]\r\n",
        "kurita_predict = [\"栗田ゆう子\", \"その他\"]\r\n",
        "kyogoku_predict = [\"その他\", \"京極万太郎\"]\r\n",
        "ohhara_predict = [\"その他\", \"大原社主\"]\r\n",
        "kaibara_predict = [\"その他\", \"海原雄山\"]\r\n",
        "tomii_predict = [\"その他\", \"富井副部長\"]\r\n",
        "tanimura_predict = [\"その他\", \"谷村部長\"]"
      ],
      "execution_count": null,
      "outputs": []
    },
    {
      "cell_type": "code",
      "metadata": {
        "id": "ggKT9a_mQGad",
        "colab": {
          "base_uri": "https://localhost:8080/",
          "height": 236
        },
        "outputId": "f5232082-a9b8-463d-c022-840b9a30912f"
      },
      "source": [
        "path = \"unknown_001.jpg\"\n",
        "x = 32\n",
        "y = 18\n",
        "image = cv2.imread(path, 0)\n",
        "image = cv2.resize(image, (x, y))\n",
        "plt.imshow(image)\n",
        "plt.show()\n",
        "image = image.reshape(x, y, 1).astype(\"float64\") / 255"
      ],
      "execution_count": null,
      "outputs": [
        {
          "output_type": "display_data",
          "data": {
            "image/png": "[encoded data removed]",
            "text/plain": [
              "<Figure size 432x288 with 1 Axes>"
            ]
          },
          "metadata": {
            "tags": [],
            "needs_background": "light"
          }
        }
      ]
    },
    {
      "cell_type": "code",
      "metadata": {
        "id": "DZB5l0wnlsdf"
      },
      "source": [
        "result = []\r\n",
        "def load_optuna(model, list):\r\n",
        "  predict = model.predict(np.array([image]))\r\n",
        "  return list[predict[0].argmax()]"
      ],
      "execution_count": null,
      "outputs": []
    },
    {
      "cell_type": "code",
      "metadata": {
        "id": "ZLuvMm5upOV8"
      },
      "source": [
        "yamaoka = load_optuna(yamaoka_model, yamaoka_predict)\r\n",
        "result.append(yamaoka)"
      ],
      "execution_count": null,
      "outputs": []
    },
    {
      "cell_type": "code",
      "metadata": {
        "id": "nLOjx2CG0a2R"
      },
      "source": [
        "kurita = load_optuna(kurita_model, kurita_predict)\r\n",
        "result.append(kurita)"
      ],
      "execution_count": null,
      "outputs": []
    },
    {
      "cell_type": "code",
      "metadata": {
        "id": "5nCPQ-nan-aX"
      },
      "source": [
        "kyogoku = load_optuna(kyogoku_model, kyogoku_predict)\r\n",
        "result.append(kyogoku)"
      ],
      "execution_count": null,
      "outputs": []
    },
    {
      "cell_type": "code",
      "metadata": {
        "id": "OmD_GfyqpKQ0"
      },
      "source": [
        "ohhara = load_optuna(ohhara_model, ohhara_predict)\r\n",
        "result.append(ohhara)"
      ],
      "execution_count": null,
      "outputs": []
    },
    {
      "cell_type": "code",
      "metadata": {
        "id": "jXJC_JGDpQsc",
        "colab": {
          "base_uri": "https://localhost:8080/"
        },
        "outputId": "bcf40c5b-8510-4d0c-d985-939f728dbe07"
      },
      "source": [
        "kaibara = load_optuna(kaibara_model, kaibara_predict)\r\n",
        "result.append(kaibara)"
      ],
      "execution_count": null,
      "outputs": [
        {
          "output_type": "stream",
          "text": [
            "WARNING:tensorflow:5 out of the last 5 calls to <function Model.make_predict_function.<locals>.predict_function at 0x7f07a0c1c680> triggered tf.function retracing. Tracing is expensive and the excessive number of tracings could be due to (1) creating @tf.function repeatedly in a loop, (2) passing tensors with different shapes, (3) passing Python objects instead of tensors. For (1), please define your @tf.function outside of the loop. For (2), @tf.function has experimental_relax_shapes=True option that relaxes argument shapes that can avoid unnecessary retracing. For (3), please refer to https://www.tensorflow.org/guide/function#controlling_retracing and https://www.tensorflow.org/api_docs/python/tf/function for  more details.\n"
          ],
          "name": "stdout"
        }
      ]
    },
    {
      "cell_type": "code",
      "metadata": {
        "id": "SGrbJU1z0WgJ",
        "colab": {
          "base_uri": "https://localhost:8080/"
        },
        "outputId": "d5436474-85d9-4097-f3a4-7054f438ec14"
      },
      "source": [
        "tomii = load_optuna(tomii_model, tomii_predict)\r\n",
        "result.append(tomii)"
      ],
      "execution_count": null,
      "outputs": [
        {
          "output_type": "stream",
          "text": [
            "WARNING:tensorflow:6 out of the last 6 calls to <function Model.make_predict_function.<locals>.predict_function at 0x7f07a39d7050> triggered tf.function retracing. Tracing is expensive and the excessive number of tracings could be due to (1) creating @tf.function repeatedly in a loop, (2) passing tensors with different shapes, (3) passing Python objects instead of tensors. For (1), please define your @tf.function outside of the loop. For (2), @tf.function has experimental_relax_shapes=True option that relaxes argument shapes that can avoid unnecessary retracing. For (3), please refer to https://www.tensorflow.org/guide/function#controlling_retracing and https://www.tensorflow.org/api_docs/python/tf/function for  more details.\n"
          ],
          "name": "stdout"
        }
      ]
    },
    {
      "cell_type": "code",
      "metadata": {
        "id": "FFBsMNOB0dWJ",
        "colab": {
          "base_uri": "https://localhost:8080/"
        },
        "outputId": "53fc91fc-72a4-4149-e5d3-53e9c79ce669"
      },
      "source": [
        "tanimura = load_optuna(tanimura_model, tanimura_predict)\r\n",
        "result.append(tanimura)"
      ],
      "execution_count": null,
      "outputs": [
        {
          "output_type": "stream",
          "text": [
            "WARNING:tensorflow:7 out of the last 7 calls to <function Model.make_predict_function.<locals>.predict_function at 0x7f079fb583b0> triggered tf.function retracing. Tracing is expensive and the excessive number of tracings could be due to (1) creating @tf.function repeatedly in a loop, (2) passing tensors with different shapes, (3) passing Python objects instead of tensors. For (1), please define your @tf.function outside of the loop. For (2), @tf.function has experimental_relax_shapes=True option that relaxes argument shapes that can avoid unnecessary retracing. For (3), please refer to https://www.tensorflow.org/guide/function#controlling_retracing and https://www.tensorflow.org/api_docs/python/tf/function for  more details.\n"
          ],
          "name": "stdout"
        }
      ]
    },
    {
      "cell_type": "code",
      "metadata": {
        "id": "X_4Si7i-8uEq",
        "colab": {
          "base_uri": "https://localhost:8080/"
        },
        "outputId": "0a90b4b3-2d14-4ed0-9db9-3791d1314db7"
      },
      "source": [
        "total = 0\r\n",
        "for key, value in enumerate(result):\r\n",
        "  if value != \"その他\":\r\n",
        "    print(value)\r\n",
        "  if value == \"その他\":\r\n",
        "    total += 1\r\n",
        "if total == len(result):\r\n",
        "  print(\"その他\")"
      ],
      "execution_count": null,
      "outputs": [
        {
          "output_type": "stream",
          "text": [
            "谷村部長\n"
          ],
          "name": "stdout"
        }
      ]
    }
  ]
}